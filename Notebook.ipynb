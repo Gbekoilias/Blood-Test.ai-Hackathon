{
 "cells": [
  {
   "cell_type": "markdown",
   "id": "cc9aa62d-de31-4f86-906c-2b0f4c8c5909",
   "metadata": {},
   "source": [
    "## import some relevant libaries"
   ]
  },
  {
   "cell_type": "code",
   "execution_count": 389,
   "id": "00bbffad-3aa6-4f0b-bf8f-864a3c764496",
   "metadata": {},
   "outputs": [],
   "source": [
    "import pandas as pd\n",
    "import seaborn as sns\n",
    "import numpy as np\n",
    "import matplotlib.pyplot as plt\n",
    "import matplotlib.pylab as plb\n",
    "import warnings\n",
    "import json\n",
    "import random\n",
    "import string\n",
    "import os\n",
    "%matplotlib inline\n",
    "sns.set()"
   ]
  },
  {
   "cell_type": "markdown",
   "id": "3261c2b6-022d-4955-a09c-86de21a07794",
   "metadata": {},
   "source": [
    "## read out the necessary files"
   ]
  },
  {
   "cell_type": "code",
   "execution_count": 390,
   "id": "70e5d286-ce10-49cc-87c2-afc6a8d073d8",
   "metadata": {},
   "outputs": [],
   "source": [
    "samplesubmission=pd.read_csv('Updated_Sample_Submission.csv')\n",
    "train=pd.read_csv('Update_train.csv')\n",
    "test=pd.read_csv('Updated_Test.csv')\n",
    "train_trimmed=pd.read_csv('Train_trimmed.csv')\n",
    "test_trimmed=pd.read_csv('Updated_Test_trimmed.csv')"
   ]
  },
  {
   "cell_type": "code",
   "execution_count": 391,
   "id": "7aeed867-f4b3-46b1-9c43-5a5816fe91ee",
   "metadata": {},
   "outputs": [
    {
     "data": {
      "text/html": [
       "<div>\n",
       "<style scoped>\n",
       "    .dataframe tbody tr th:only-of-type {\n",
       "        vertical-align: middle;\n",
       "    }\n",
       "\n",
       "    .dataframe tbody tr th {\n",
       "        vertical-align: top;\n",
       "    }\n",
       "\n",
       "    .dataframe thead th {\n",
       "        text-align: right;\n",
       "    }\n",
       "</style>\n",
       "<table border=\"1\" class=\"dataframe\">\n",
       "  <thead>\n",
       "    <tr style=\"text-align: right;\">\n",
       "      <th></th>\n",
       "      <th>absorbance0</th>\n",
       "      <th>absorbance1</th>\n",
       "      <th>absorbance2</th>\n",
       "      <th>absorbance3</th>\n",
       "      <th>absorbance4</th>\n",
       "      <th>absorbance5</th>\n",
       "      <th>absorbance6</th>\n",
       "      <th>absorbance7</th>\n",
       "      <th>absorbance8</th>\n",
       "      <th>absorbance9</th>\n",
       "      <th>...</th>\n",
       "      <th>absorbance168</th>\n",
       "      <th>absorbance169</th>\n",
       "      <th>id</th>\n",
       "      <th>std</th>\n",
       "      <th>temperature</th>\n",
       "      <th>humidity</th>\n",
       "      <th>hdl_cholesterol_human</th>\n",
       "      <th>hemoglobin(hgb)_human</th>\n",
       "      <th>cholesterol_ldl_human</th>\n",
       "      <th>donation_id</th>\n",
       "    </tr>\n",
       "  </thead>\n",
       "  <tbody>\n",
       "    <tr>\n",
       "      <th>0</th>\n",
       "      <td>0.520883</td>\n",
       "      <td>0.528200</td>\n",
       "      <td>0.529795</td>\n",
       "      <td>0.537382</td>\n",
       "      <td>0.540265</td>\n",
       "      <td>0.546260</td>\n",
       "      <td>0.550882</td>\n",
       "      <td>0.558865</td>\n",
       "      <td>0.571352</td>\n",
       "      <td>0.585775</td>\n",
       "      <td>...</td>\n",
       "      <td>1.319344</td>\n",
       "      <td>1.278294</td>\n",
       "      <td>0</td>\n",
       "      <td>0.0026</td>\n",
       "      <td>39.27</td>\n",
       "      <td>44.17</td>\n",
       "      <td>low</td>\n",
       "      <td>ok</td>\n",
       "      <td>high</td>\n",
       "      <td>2250</td>\n",
       "    </tr>\n",
       "    <tr>\n",
       "      <th>1</th>\n",
       "      <td>0.529109</td>\n",
       "      <td>0.534852</td>\n",
       "      <td>0.541075</td>\n",
       "      <td>0.544269</td>\n",
       "      <td>0.546594</td>\n",
       "      <td>0.555183</td>\n",
       "      <td>0.561367</td>\n",
       "      <td>0.567637</td>\n",
       "      <td>0.582427</td>\n",
       "      <td>0.595801</td>\n",
       "      <td>...</td>\n",
       "      <td>1.282723</td>\n",
       "      <td>1.267465</td>\n",
       "      <td>1</td>\n",
       "      <td>0.0026</td>\n",
       "      <td>39.39</td>\n",
       "      <td>44.09</td>\n",
       "      <td>low</td>\n",
       "      <td>ok</td>\n",
       "      <td>high</td>\n",
       "      <td>2250</td>\n",
       "    </tr>\n",
       "    <tr>\n",
       "      <th>2</th>\n",
       "      <td>0.528434</td>\n",
       "      <td>0.532036</td>\n",
       "      <td>0.540413</td>\n",
       "      <td>0.541964</td>\n",
       "      <td>0.549347</td>\n",
       "      <td>0.555902</td>\n",
       "      <td>0.561458</td>\n",
       "      <td>0.567824</td>\n",
       "      <td>0.579568</td>\n",
       "      <td>0.593048</td>\n",
       "      <td>...</td>\n",
       "      <td>1.287730</td>\n",
       "      <td>1.266464</td>\n",
       "      <td>2</td>\n",
       "      <td>0.0026</td>\n",
       "      <td>39.50</td>\n",
       "      <td>44.00</td>\n",
       "      <td>low</td>\n",
       "      <td>ok</td>\n",
       "      <td>high</td>\n",
       "      <td>2250</td>\n",
       "    </tr>\n",
       "    <tr>\n",
       "      <th>3</th>\n",
       "      <td>0.530528</td>\n",
       "      <td>0.531880</td>\n",
       "      <td>0.539558</td>\n",
       "      <td>0.542433</td>\n",
       "      <td>0.549097</td>\n",
       "      <td>0.556224</td>\n",
       "      <td>0.561398</td>\n",
       "      <td>0.566963</td>\n",
       "      <td>0.577525</td>\n",
       "      <td>0.591982</td>\n",
       "      <td>...</td>\n",
       "      <td>1.314408</td>\n",
       "      <td>1.342224</td>\n",
       "      <td>3</td>\n",
       "      <td>0.0026</td>\n",
       "      <td>39.60</td>\n",
       "      <td>43.89</td>\n",
       "      <td>low</td>\n",
       "      <td>ok</td>\n",
       "      <td>high</td>\n",
       "      <td>2250</td>\n",
       "    </tr>\n",
       "    <tr>\n",
       "      <th>4</th>\n",
       "      <td>0.527530</td>\n",
       "      <td>0.536424</td>\n",
       "      <td>0.538207</td>\n",
       "      <td>0.541504</td>\n",
       "      <td>0.550546</td>\n",
       "      <td>0.555203</td>\n",
       "      <td>0.560394</td>\n",
       "      <td>0.567352</td>\n",
       "      <td>0.579438</td>\n",
       "      <td>0.592049</td>\n",
       "      <td>...</td>\n",
       "      <td>1.268710</td>\n",
       "      <td>1.216146</td>\n",
       "      <td>4</td>\n",
       "      <td>0.0026</td>\n",
       "      <td>39.70</td>\n",
       "      <td>43.83</td>\n",
       "      <td>low</td>\n",
       "      <td>ok</td>\n",
       "      <td>high</td>\n",
       "      <td>2250</td>\n",
       "    </tr>\n",
       "  </tbody>\n",
       "</table>\n",
       "<p>5 rows × 178 columns</p>\n",
       "</div>"
      ],
      "text/plain": [
       "   absorbance0  absorbance1  absorbance2  absorbance3  absorbance4  \\\n",
       "0     0.520883     0.528200     0.529795     0.537382     0.540265   \n",
       "1     0.529109     0.534852     0.541075     0.544269     0.546594   \n",
       "2     0.528434     0.532036     0.540413     0.541964     0.549347   \n",
       "3     0.530528     0.531880     0.539558     0.542433     0.549097   \n",
       "4     0.527530     0.536424     0.538207     0.541504     0.550546   \n",
       "\n",
       "   absorbance5  absorbance6  absorbance7  absorbance8  absorbance9  ...  \\\n",
       "0     0.546260     0.550882     0.558865     0.571352     0.585775  ...   \n",
       "1     0.555183     0.561367     0.567637     0.582427     0.595801  ...   \n",
       "2     0.555902     0.561458     0.567824     0.579568     0.593048  ...   \n",
       "3     0.556224     0.561398     0.566963     0.577525     0.591982  ...   \n",
       "4     0.555203     0.560394     0.567352     0.579438     0.592049  ...   \n",
       "\n",
       "   absorbance168  absorbance169  id     std  temperature  humidity  \\\n",
       "0       1.319344       1.278294   0  0.0026        39.27     44.17   \n",
       "1       1.282723       1.267465   1  0.0026        39.39     44.09   \n",
       "2       1.287730       1.266464   2  0.0026        39.50     44.00   \n",
       "3       1.314408       1.342224   3  0.0026        39.60     43.89   \n",
       "4       1.268710       1.216146   4  0.0026        39.70     43.83   \n",
       "\n",
       "   hdl_cholesterol_human  hemoglobin(hgb)_human  cholesterol_ldl_human  \\\n",
       "0                    low                     ok                   high   \n",
       "1                    low                     ok                   high   \n",
       "2                    low                     ok                   high   \n",
       "3                    low                     ok                   high   \n",
       "4                    low                     ok                   high   \n",
       "\n",
       "   donation_id  \n",
       "0         2250  \n",
       "1         2250  \n",
       "2         2250  \n",
       "3         2250  \n",
       "4         2250  \n",
       "\n",
       "[5 rows x 178 columns]"
      ]
     },
     "execution_count": 391,
     "metadata": {},
     "output_type": "execute_result"
    }
   ],
   "source": [
    "train.head()"
   ]
  },
  {
   "cell_type": "code",
   "execution_count": 392,
   "id": "5591f63f-d6bf-4c26-8576-5de542ad79c7",
   "metadata": {},
   "outputs": [
    {
     "data": {
      "text/plain": [
       "Index(['absorbance0', 'absorbance1', 'absorbance2', 'absorbance3',\n",
       "       'absorbance4', 'absorbance5', 'absorbance6', 'absorbance7',\n",
       "       'absorbance8', 'absorbance9',\n",
       "       ...\n",
       "       'absorbance168', 'absorbance169', 'id', 'std', 'temperature',\n",
       "       'humidity', 'hdl_cholesterol_human', 'hemoglobin(hgb)_human',\n",
       "       'cholesterol_ldl_human', 'donation_id'],\n",
       "      dtype='object', length=178)"
      ]
     },
     "execution_count": 392,
     "metadata": {},
     "output_type": "execute_result"
    }
   ],
   "source": [
    "train.columns"
   ]
  },
  {
   "cell_type": "code",
   "execution_count": 393,
   "id": "9ae72824-2675-4079-9aec-790d6003306f",
   "metadata": {},
   "outputs": [
    {
     "data": {
      "text/plain": [
       "Index(['Reading_ID', 'donation_id', 'absorbance0', 'absorbance1',\n",
       "       'absorbance2', 'absorbance3', 'absorbance4', 'absorbance5',\n",
       "       'absorbance6', 'absorbance7',\n",
       "       ...\n",
       "       'absorbance164', 'absorbance165', 'absorbance166', 'absorbance167',\n",
       "       'absorbance168', 'absorbance169', 'id', 'std', 'temperature',\n",
       "       'humidity'],\n",
       "      dtype='object', length=176)"
      ]
     },
     "execution_count": 393,
     "metadata": {},
     "output_type": "execute_result"
    }
   ],
   "source": [
    "test.columns"
   ]
  },
  {
   "cell_type": "markdown",
   "id": "1f95510a-976f-4c86-8a74-ca8743fe0d3e",
   "metadata": {},
   "source": [
    "## checking out the data given"
   ]
  },
  {
   "cell_type": "code",
   "execution_count": 394,
   "id": "e5cf72f3-1cd7-4746-bb3b-5c0c31616a4a",
   "metadata": {},
   "outputs": [
    {
     "data": {
      "text/html": [
       "<div>\n",
       "<style scoped>\n",
       "    .dataframe tbody tr th:only-of-type {\n",
       "        vertical-align: middle;\n",
       "    }\n",
       "\n",
       "    .dataframe tbody tr th {\n",
       "        vertical-align: top;\n",
       "    }\n",
       "\n",
       "    .dataframe thead th {\n",
       "        text-align: right;\n",
       "    }\n",
       "</style>\n",
       "<table border=\"1\" class=\"dataframe\">\n",
       "  <thead>\n",
       "    <tr style=\"text-align: right;\">\n",
       "      <th></th>\n",
       "      <th>Donation_ID</th>\n",
       "      <th>target</th>\n",
       "    </tr>\n",
       "  </thead>\n",
       "  <tbody>\n",
       "    <tr>\n",
       "      <th>0</th>\n",
       "      <td>ID_1961_cholesterol_ldl_human</td>\n",
       "      <td>ok</td>\n",
       "    </tr>\n",
       "    <tr>\n",
       "      <th>1</th>\n",
       "      <td>ID_1961_hdl_cholesterol_human</td>\n",
       "      <td>ok</td>\n",
       "    </tr>\n",
       "    <tr>\n",
       "      <th>2</th>\n",
       "      <td>ID_1961_hemoglobin(hgb)_human</td>\n",
       "      <td>ok</td>\n",
       "    </tr>\n",
       "    <tr>\n",
       "      <th>3</th>\n",
       "      <td>ID_2067_cholesterol_ldl_human</td>\n",
       "      <td>ok</td>\n",
       "    </tr>\n",
       "    <tr>\n",
       "      <th>4</th>\n",
       "      <td>ID_2067_hdl_cholesterol_human</td>\n",
       "      <td>ok</td>\n",
       "    </tr>\n",
       "  </tbody>\n",
       "</table>\n",
       "</div>"
      ],
      "text/plain": [
       "                     Donation_ID target\n",
       "0  ID_1961_cholesterol_ldl_human     ok\n",
       "1  ID_1961_hdl_cholesterol_human     ok\n",
       "2  ID_1961_hemoglobin(hgb)_human     ok\n",
       "3  ID_2067_cholesterol_ldl_human     ok\n",
       "4  ID_2067_hdl_cholesterol_human     ok"
      ]
     },
     "execution_count": 394,
     "metadata": {},
     "output_type": "execute_result"
    }
   ],
   "source": [
    "samplesubmission.head()"
   ]
  },
  {
   "cell_type": "code",
   "execution_count": 395,
   "id": "fe1bf43e-e7af-4fb5-a3e3-d1a21cd9f835",
   "metadata": {},
   "outputs": [
    {
     "name": "stdout",
     "output_type": "stream",
     "text": [
      "<class 'pandas.core.frame.DataFrame'>\n",
      "RangeIndex: 183 entries, 0 to 182\n",
      "Data columns (total 2 columns):\n",
      " #   Column       Non-Null Count  Dtype \n",
      "---  ------       --------------  ----- \n",
      " 0   Donation_ID  183 non-null    object\n",
      " 1   target       183 non-null    object\n",
      "dtypes: object(2)\n",
      "memory usage: 3.0+ KB\n"
     ]
    }
   ],
   "source": [
    "samplesubmission.info()"
   ]
  },
  {
   "cell_type": "code",
   "execution_count": 396,
   "id": "60dd8ebd-f7f1-477d-bbb3-10d7cd851c4f",
   "metadata": {},
   "outputs": [
    {
     "data": {
      "text/html": [
       "<div>\n",
       "<style scoped>\n",
       "    .dataframe tbody tr th:only-of-type {\n",
       "        vertical-align: middle;\n",
       "    }\n",
       "\n",
       "    .dataframe tbody tr th {\n",
       "        vertical-align: top;\n",
       "    }\n",
       "\n",
       "    .dataframe thead th {\n",
       "        text-align: right;\n",
       "    }\n",
       "</style>\n",
       "<table border=\"1\" class=\"dataframe\">\n",
       "  <thead>\n",
       "    <tr style=\"text-align: right;\">\n",
       "      <th></th>\n",
       "      <th>Donation_ID</th>\n",
       "      <th>target</th>\n",
       "    </tr>\n",
       "  </thead>\n",
       "  <tbody>\n",
       "    <tr>\n",
       "      <th>count</th>\n",
       "      <td>183</td>\n",
       "      <td>183</td>\n",
       "    </tr>\n",
       "    <tr>\n",
       "      <th>unique</th>\n",
       "      <td>183</td>\n",
       "      <td>1</td>\n",
       "    </tr>\n",
       "    <tr>\n",
       "      <th>top</th>\n",
       "      <td>ID_3637_hdl_cholesterol_human</td>\n",
       "      <td>ok</td>\n",
       "    </tr>\n",
       "    <tr>\n",
       "      <th>freq</th>\n",
       "      <td>1</td>\n",
       "      <td>183</td>\n",
       "    </tr>\n",
       "  </tbody>\n",
       "</table>\n",
       "</div>"
      ],
      "text/plain": [
       "                          Donation_ID target\n",
       "count                             183    183\n",
       "unique                            183      1\n",
       "top     ID_3637_hdl_cholesterol_human     ok\n",
       "freq                                1    183"
      ]
     },
     "execution_count": 396,
     "metadata": {},
     "output_type": "execute_result"
    }
   ],
   "source": [
    "samplesubmission.describe()"
   ]
  },
  {
   "cell_type": "code",
   "execution_count": 397,
   "id": "226ce2ee-52b9-4acd-857d-6428fee9f308",
   "metadata": {},
   "outputs": [
    {
     "data": {
      "text/plain": [
       "Index(['absorbance0', 'absorbance1', 'absorbance2', 'absorbance3',\n",
       "       'absorbance4', 'absorbance5', 'absorbance6', 'absorbance7',\n",
       "       'absorbance8', 'absorbance9',\n",
       "       ...\n",
       "       'absorbance168', 'absorbance169', 'id', 'std', 'temperature',\n",
       "       'humidity', 'hdl_cholesterol_human', 'hemoglobin(hgb)_human',\n",
       "       'cholesterol_ldl_human', 'donation_id'],\n",
       "      dtype='object', length=178)"
      ]
     },
     "execution_count": 397,
     "metadata": {},
     "output_type": "execute_result"
    }
   ],
   "source": [
    "train.columns"
   ]
  },
  {
   "cell_type": "code",
   "execution_count": 398,
   "id": "2601cd4f-cea4-4f46-8526-0f2b8610fac7",
   "metadata": {},
   "outputs": [
    {
     "data": {
      "text/html": [
       "<div>\n",
       "<style scoped>\n",
       "    .dataframe tbody tr th:only-of-type {\n",
       "        vertical-align: middle;\n",
       "    }\n",
       "\n",
       "    .dataframe tbody tr th {\n",
       "        vertical-align: top;\n",
       "    }\n",
       "\n",
       "    .dataframe thead th {\n",
       "        text-align: right;\n",
       "    }\n",
       "</style>\n",
       "<table border=\"1\" class=\"dataframe\">\n",
       "  <thead>\n",
       "    <tr style=\"text-align: right;\">\n",
       "      <th></th>\n",
       "      <th>absorbance0</th>\n",
       "      <th>absorbance1</th>\n",
       "      <th>absorbance2</th>\n",
       "      <th>absorbance3</th>\n",
       "      <th>absorbance4</th>\n",
       "      <th>absorbance5</th>\n",
       "      <th>absorbance6</th>\n",
       "      <th>absorbance7</th>\n",
       "      <th>absorbance8</th>\n",
       "      <th>absorbance9</th>\n",
       "      <th>...</th>\n",
       "      <th>absorbance165</th>\n",
       "      <th>absorbance166</th>\n",
       "      <th>absorbance167</th>\n",
       "      <th>absorbance168</th>\n",
       "      <th>absorbance169</th>\n",
       "      <th>id</th>\n",
       "      <th>std</th>\n",
       "      <th>temperature</th>\n",
       "      <th>humidity</th>\n",
       "      <th>donation_id</th>\n",
       "    </tr>\n",
       "  </thead>\n",
       "  <tbody>\n",
       "    <tr>\n",
       "      <th>count</th>\n",
       "      <td>29160.000000</td>\n",
       "      <td>29160.000000</td>\n",
       "      <td>29160.000000</td>\n",
       "      <td>29160.000000</td>\n",
       "      <td>29160.000000</td>\n",
       "      <td>29160.000000</td>\n",
       "      <td>29160.000000</td>\n",
       "      <td>29160.000000</td>\n",
       "      <td>29160.000000</td>\n",
       "      <td>29160.000000</td>\n",
       "      <td>...</td>\n",
       "      <td>29160.000000</td>\n",
       "      <td>29160.000000</td>\n",
       "      <td>29160.000000</td>\n",
       "      <td>29160.000000</td>\n",
       "      <td>29160.000000</td>\n",
       "      <td>29160.000000</td>\n",
       "      <td>29160.000000</td>\n",
       "      <td>29160.000000</td>\n",
       "      <td>29160.000000</td>\n",
       "      <td>29160.000000</td>\n",
       "    </tr>\n",
       "    <tr>\n",
       "      <th>mean</th>\n",
       "      <td>0.501233</td>\n",
       "      <td>0.505343</td>\n",
       "      <td>0.509430</td>\n",
       "      <td>0.513951</td>\n",
       "      <td>0.520390</td>\n",
       "      <td>0.527901</td>\n",
       "      <td>0.534790</td>\n",
       "      <td>0.539878</td>\n",
       "      <td>0.547992</td>\n",
       "      <td>0.560161</td>\n",
       "      <td>...</td>\n",
       "      <td>1.256808</td>\n",
       "      <td>1.250286</td>\n",
       "      <td>1.247337</td>\n",
       "      <td>1.261093</td>\n",
       "      <td>1.249279</td>\n",
       "      <td>18395.467078</td>\n",
       "      <td>0.007525</td>\n",
       "      <td>41.243166</td>\n",
       "      <td>35.340352</td>\n",
       "      <td>6647.707819</td>\n",
       "    </tr>\n",
       "    <tr>\n",
       "      <th>std</th>\n",
       "      <td>0.154276</td>\n",
       "      <td>0.114408</td>\n",
       "      <td>0.108543</td>\n",
       "      <td>0.131905</td>\n",
       "      <td>0.130735</td>\n",
       "      <td>0.127874</td>\n",
       "      <td>0.115413</td>\n",
       "      <td>0.122235</td>\n",
       "      <td>0.120122</td>\n",
       "      <td>0.121974</td>\n",
       "      <td>...</td>\n",
       "      <td>0.147095</td>\n",
       "      <td>0.157714</td>\n",
       "      <td>0.165125</td>\n",
       "      <td>0.172043</td>\n",
       "      <td>0.142374</td>\n",
       "      <td>11516.122819</td>\n",
       "      <td>0.004625</td>\n",
       "      <td>2.833117</td>\n",
       "      <td>8.700879</td>\n",
       "      <td>3036.003039</td>\n",
       "    </tr>\n",
       "    <tr>\n",
       "      <th>min</th>\n",
       "      <td>-2.793790</td>\n",
       "      <td>-1.875939</td>\n",
       "      <td>-1.733555</td>\n",
       "      <td>-2.270881</td>\n",
       "      <td>-2.239499</td>\n",
       "      <td>-2.172958</td>\n",
       "      <td>-1.870428</td>\n",
       "      <td>-2.021362</td>\n",
       "      <td>-1.963416</td>\n",
       "      <td>-1.990968</td>\n",
       "      <td>...</td>\n",
       "      <td>-1.399953</td>\n",
       "      <td>-1.618211</td>\n",
       "      <td>-1.746980</td>\n",
       "      <td>-1.840234</td>\n",
       "      <td>-0.995391</td>\n",
       "      <td>0.000000</td>\n",
       "      <td>0.002400</td>\n",
       "      <td>30.480000</td>\n",
       "      <td>16.610000</td>\n",
       "      <td>1975.000000</td>\n",
       "    </tr>\n",
       "    <tr>\n",
       "      <th>25%</th>\n",
       "      <td>0.486140</td>\n",
       "      <td>0.488110</td>\n",
       "      <td>0.491822</td>\n",
       "      <td>0.496990</td>\n",
       "      <td>0.502719</td>\n",
       "      <td>0.509847</td>\n",
       "      <td>0.516403</td>\n",
       "      <td>0.522104</td>\n",
       "      <td>0.530236</td>\n",
       "      <td>0.542101</td>\n",
       "      <td>...</td>\n",
       "      <td>1.209375</td>\n",
       "      <td>1.198047</td>\n",
       "      <td>1.191282</td>\n",
       "      <td>1.200460</td>\n",
       "      <td>1.187413</td>\n",
       "      <td>7289.750000</td>\n",
       "      <td>0.004500</td>\n",
       "      <td>39.180000</td>\n",
       "      <td>28.300000</td>\n",
       "      <td>3593.000000</td>\n",
       "    </tr>\n",
       "    <tr>\n",
       "      <th>50%</th>\n",
       "      <td>0.509431</td>\n",
       "      <td>0.511737</td>\n",
       "      <td>0.515532</td>\n",
       "      <td>0.521206</td>\n",
       "      <td>0.527353</td>\n",
       "      <td>0.534120</td>\n",
       "      <td>0.540330</td>\n",
       "      <td>0.546182</td>\n",
       "      <td>0.554205</td>\n",
       "      <td>0.567028</td>\n",
       "      <td>...</td>\n",
       "      <td>1.259995</td>\n",
       "      <td>1.253789</td>\n",
       "      <td>1.251885</td>\n",
       "      <td>1.264090</td>\n",
       "      <td>1.250164</td>\n",
       "      <td>21499.500000</td>\n",
       "      <td>0.006100</td>\n",
       "      <td>41.200000</td>\n",
       "      <td>35.295000</td>\n",
       "      <td>6428.500000</td>\n",
       "    </tr>\n",
       "    <tr>\n",
       "      <th>75%</th>\n",
       "      <td>0.530501</td>\n",
       "      <td>0.532439</td>\n",
       "      <td>0.536944</td>\n",
       "      <td>0.542858</td>\n",
       "      <td>0.549445</td>\n",
       "      <td>0.556553</td>\n",
       "      <td>0.563126</td>\n",
       "      <td>0.568506</td>\n",
       "      <td>0.576613</td>\n",
       "      <td>0.589161</td>\n",
       "      <td>...</td>\n",
       "      <td>1.313490</td>\n",
       "      <td>1.312229</td>\n",
       "      <td>1.311609</td>\n",
       "      <td>1.328095</td>\n",
       "      <td>1.314102</td>\n",
       "      <td>28789.250000</td>\n",
       "      <td>0.008900</td>\n",
       "      <td>43.130000</td>\n",
       "      <td>41.190000</td>\n",
       "      <td>9326.000000</td>\n",
       "    </tr>\n",
       "    <tr>\n",
       "      <th>max</th>\n",
       "      <td>0.657782</td>\n",
       "      <td>0.652291</td>\n",
       "      <td>0.659153</td>\n",
       "      <td>0.658982</td>\n",
       "      <td>0.659410</td>\n",
       "      <td>0.667296</td>\n",
       "      <td>0.672708</td>\n",
       "      <td>0.680601</td>\n",
       "      <td>0.691116</td>\n",
       "      <td>0.704255</td>\n",
       "      <td>...</td>\n",
       "      <td>1.606844</td>\n",
       "      <td>1.586301</td>\n",
       "      <td>1.657884</td>\n",
       "      <td>1.672314</td>\n",
       "      <td>1.738621</td>\n",
       "      <td>36079.000000</td>\n",
       "      <td>0.028700</td>\n",
       "      <td>52.690000</td>\n",
       "      <td>67.820000</td>\n",
       "      <td>11906.000000</td>\n",
       "    </tr>\n",
       "  </tbody>\n",
       "</table>\n",
       "<p>8 rows × 175 columns</p>\n",
       "</div>"
      ],
      "text/plain": [
       "        absorbance0   absorbance1   absorbance2   absorbance3   absorbance4  \\\n",
       "count  29160.000000  29160.000000  29160.000000  29160.000000  29160.000000   \n",
       "mean       0.501233      0.505343      0.509430      0.513951      0.520390   \n",
       "std        0.154276      0.114408      0.108543      0.131905      0.130735   \n",
       "min       -2.793790     -1.875939     -1.733555     -2.270881     -2.239499   \n",
       "25%        0.486140      0.488110      0.491822      0.496990      0.502719   \n",
       "50%        0.509431      0.511737      0.515532      0.521206      0.527353   \n",
       "75%        0.530501      0.532439      0.536944      0.542858      0.549445   \n",
       "max        0.657782      0.652291      0.659153      0.658982      0.659410   \n",
       "\n",
       "        absorbance5   absorbance6   absorbance7   absorbance8   absorbance9  \\\n",
       "count  29160.000000  29160.000000  29160.000000  29160.000000  29160.000000   \n",
       "mean       0.527901      0.534790      0.539878      0.547992      0.560161   \n",
       "std        0.127874      0.115413      0.122235      0.120122      0.121974   \n",
       "min       -2.172958     -1.870428     -2.021362     -1.963416     -1.990968   \n",
       "25%        0.509847      0.516403      0.522104      0.530236      0.542101   \n",
       "50%        0.534120      0.540330      0.546182      0.554205      0.567028   \n",
       "75%        0.556553      0.563126      0.568506      0.576613      0.589161   \n",
       "max        0.667296      0.672708      0.680601      0.691116      0.704255   \n",
       "\n",
       "       ...  absorbance165  absorbance166  absorbance167  absorbance168  \\\n",
       "count  ...   29160.000000   29160.000000   29160.000000   29160.000000   \n",
       "mean   ...       1.256808       1.250286       1.247337       1.261093   \n",
       "std    ...       0.147095       0.157714       0.165125       0.172043   \n",
       "min    ...      -1.399953      -1.618211      -1.746980      -1.840234   \n",
       "25%    ...       1.209375       1.198047       1.191282       1.200460   \n",
       "50%    ...       1.259995       1.253789       1.251885       1.264090   \n",
       "75%    ...       1.313490       1.312229       1.311609       1.328095   \n",
       "max    ...       1.606844       1.586301       1.657884       1.672314   \n",
       "\n",
       "       absorbance169            id           std   temperature      humidity  \\\n",
       "count   29160.000000  29160.000000  29160.000000  29160.000000  29160.000000   \n",
       "mean        1.249279  18395.467078      0.007525     41.243166     35.340352   \n",
       "std         0.142374  11516.122819      0.004625      2.833117      8.700879   \n",
       "min        -0.995391      0.000000      0.002400     30.480000     16.610000   \n",
       "25%         1.187413   7289.750000      0.004500     39.180000     28.300000   \n",
       "50%         1.250164  21499.500000      0.006100     41.200000     35.295000   \n",
       "75%         1.314102  28789.250000      0.008900     43.130000     41.190000   \n",
       "max         1.738621  36079.000000      0.028700     52.690000     67.820000   \n",
       "\n",
       "        donation_id  \n",
       "count  29160.000000  \n",
       "mean    6647.707819  \n",
       "std     3036.003039  \n",
       "min     1975.000000  \n",
       "25%     3593.000000  \n",
       "50%     6428.500000  \n",
       "75%     9326.000000  \n",
       "max    11906.000000  \n",
       "\n",
       "[8 rows x 175 columns]"
      ]
     },
     "execution_count": 398,
     "metadata": {},
     "output_type": "execute_result"
    }
   ],
   "source": [
    "train.describe()"
   ]
  },
  {
   "cell_type": "markdown",
   "id": "d9ec04b6-baa6-402f-ad7f-a613afe0a524",
   "metadata": {},
   "source": [
    "## exploratory data analysis"
   ]
  },
  {
   "cell_type": "code",
   "execution_count": 399,
   "id": "5a089402-a24a-4eb7-81dd-1ea9568b018c",
   "metadata": {
    "jupyter": {
     "source_hidden": true
    },
    "tags": []
   },
   "outputs": [
    {
     "data": {
      "text/plain": [
       "Index(['absorbance0', 'absorbance1', 'absorbance2', 'absorbance3',\n",
       "       'absorbance4', 'absorbance5', 'absorbance6', 'absorbance7',\n",
       "       'absorbance8', 'absorbance9',\n",
       "       ...\n",
       "       'absorbance168', 'absorbance169', 'id', 'std', 'temperature',\n",
       "       'humidity', 'hdl_cholesterol_human', 'hemoglobin(hgb)_human',\n",
       "       'cholesterol_ldl_human', 'donation_id'],\n",
       "      dtype='object', length=178)"
      ]
     },
     "execution_count": 399,
     "metadata": {},
     "output_type": "execute_result"
    }
   ],
   "source": [
    "train.columns"
   ]
  },
  {
   "cell_type": "code",
   "execution_count": 400,
   "id": "0eac1666-c2a5-4351-85c1-da17d4d3209d",
   "metadata": {},
   "outputs": [
    {
     "data": {
      "text/plain": [
       "Index(['Reading_ID', 'donation_id', 'absorbance0', 'absorbance1',\n",
       "       'absorbance2', 'absorbance3', 'absorbance4', 'absorbance5',\n",
       "       'absorbance6', 'absorbance7',\n",
       "       ...\n",
       "       'absorbance164', 'absorbance165', 'absorbance166', 'absorbance167',\n",
       "       'absorbance168', 'absorbance169', 'id', 'std', 'temperature',\n",
       "       'humidity'],\n",
       "      dtype='object', length=176)"
      ]
     },
     "execution_count": 400,
     "metadata": {},
     "output_type": "execute_result"
    }
   ],
   "source": [
    "test.columns"
   ]
  },
  {
   "cell_type": "code",
   "execution_count": 401,
   "id": "ff1e7b73-83ac-4d24-b9c8-50ab24a8afc6",
   "metadata": {},
   "outputs": [
    {
     "name": "stderr",
     "output_type": "stream",
     "text": [
      "C:\\ProgramData\\Anaconda3\\lib\\site-packages\\seaborn\\_decorators.py:36: FutureWarning: Pass the following variable as a keyword arg: x. From version 0.12, the only valid positional argument will be `data`, and passing other arguments without an explicit keyword will result in an error or misinterpretation.\n",
      "  warnings.warn(\n"
     ]
    },
    {
     "data": {
      "text/plain": [
       "<AxesSubplot:xlabel='hemoglobin(hgb)_human', ylabel='count'>"
      ]
     },
     "execution_count": 401,
     "metadata": {},
     "output_type": "execute_result"
    },
    {
     "data": {
      "image/png": "[encoded data removed]",
      "text/plain": [
       "<Figure size 432x288 with 1 Axes>"
      ]
     },
     "metadata": {},
     "output_type": "display_data"
    }
   ],
   "source": [
    "sns.countplot(train['hemoglobin(hgb)_human'])"
   ]
  },
  {
   "cell_type": "code",
   "execution_count": 402,
   "id": "4093bf04-598d-4686-b0fa-003819ea2af8",
   "metadata": {},
   "outputs": [
    {
     "name": "stderr",
     "output_type": "stream",
     "text": [
      "C:\\ProgramData\\Anaconda3\\lib\\site-packages\\seaborn\\_decorators.py:36: FutureWarning: Pass the following variable as a keyword arg: x. From version 0.12, the only valid positional argument will be `data`, and passing other arguments without an explicit keyword will result in an error or misinterpretation.\n",
      "  warnings.warn(\n"
     ]
    },
    {
     "data": {
      "text/plain": [
       "<AxesSubplot:xlabel='cholesterol_ldl_human', ylabel='count'>"
      ]
     },
     "execution_count": 402,
     "metadata": {},
     "output_type": "execute_result"
    },
    {
     "data": {
      "image/png": "[encoded data removed]",
      "text/plain": [
       "<Figure size 432x288 with 1 Axes>"
      ]
     },
     "metadata": {},
     "output_type": "display_data"
    }
   ],
   "source": [
    "sns.countplot(train['cholesterol_ldl_human'])"
   ]
  },
  {
   "cell_type": "code",
   "execution_count": 403,
   "id": "8147caa6-bd4e-43f4-8232-c8f7d8a3080e",
   "metadata": {},
   "outputs": [
    {
     "data": {
      "text/plain": [
       "<AxesSubplot:xlabel='hdl_cholesterol_human', ylabel='Count'>"
      ]
     },
     "execution_count": 403,
     "metadata": {},
     "output_type": "execute_result"
    },
    {
     "data": {
      "image/png": "[encoded data removed]",
      "text/plain": [
       "<Figure size 432x288 with 1 Axes>"
      ]
     },
     "metadata": {},
     "output_type": "display_data"
    }
   ],
   "source": [
    "sns.histplot(train['hdl_cholesterol_human'])"
   ]
  },
  {
   "cell_type": "code",
   "execution_count": 404,
   "id": "782c1283-f40b-4460-9e0b-74c0044acbaa",
   "metadata": {},
   "outputs": [],
   "source": [
    "newtrain=train.drop(['donation_id'],axis=1)"
   ]
  },
  {
   "cell_type": "code",
   "execution_count": 405,
   "id": "8639e454-1bb9-4a3c-bdc4-4f0fed8b6c7c",
   "metadata": {},
   "outputs": [
    {
     "data": {
      "text/plain": [
       "Index(['absorbance0', 'absorbance1', 'absorbance2', 'absorbance3',\n",
       "       'absorbance4', 'absorbance5', 'absorbance6', 'absorbance7',\n",
       "       'absorbance8', 'absorbance9',\n",
       "       ...\n",
       "       'absorbance167', 'absorbance168', 'absorbance169', 'id', 'std',\n",
       "       'temperature', 'humidity', 'hdl_cholesterol_human',\n",
       "       'hemoglobin(hgb)_human', 'cholesterol_ldl_human'],\n",
       "      dtype='object', length=177)"
      ]
     },
     "execution_count": 405,
     "metadata": {},
     "output_type": "execute_result"
    }
   ],
   "source": [
    "newtrain.columns"
   ]
  },
  {
   "cell_type": "code",
   "execution_count": 406,
   "id": "862d8445-6131-460e-9d44-dc5a79ca86d9",
   "metadata": {},
   "outputs": [
    {
     "data": {
      "text/plain": [
       "(29160, 177)"
      ]
     },
     "execution_count": 406,
     "metadata": {},
     "output_type": "execute_result"
    }
   ],
   "source": [
    "newtrain.shape"
   ]
  },
  {
   "cell_type": "code",
   "execution_count": 407,
   "id": "30292156-ac6d-420d-920f-92bb7267b5ac",
   "metadata": {},
   "outputs": [],
   "source": [
    "nnewtrain=newtrain.to_numpy()"
   ]
  },
  {
   "cell_type": "code",
   "execution_count": null,
   "id": "f8e41d2b-33e2-46a5-bc64-f9ce0cfb75cb",
   "metadata": {},
   "outputs": [],
   "source": [
    "features=np.array(nnewtrain [:,:174], dtype=float)\n",
    "labels = nnewtrain[:,174:]"
   ]
  },
  {
   "cell_type": "markdown",
   "id": "6679fec2-cb0f-4e1f-95c1-344d59531daf",
   "metadata": {},
   "source": [
    "## Make i save my predictions"
   ]
  },
  {
   "cell_type": "code",
   "execution_count": 409,
   "id": "3d7bf2ef-26cf-48a3-ba20-596f1d2afebc",
   "metadata": {},
   "outputs": [
    {
     "data": {
      "text/html": [
       "<div>\n",
       "<style scoped>\n",
       "    .dataframe tbody tr th:only-of-type {\n",
       "        vertical-align: middle;\n",
       "    }\n",
       "\n",
       "    .dataframe tbody tr th {\n",
       "        vertical-align: top;\n",
       "    }\n",
       "\n",
       "    .dataframe thead th {\n",
       "        text-align: right;\n",
       "    }\n",
       "</style>\n",
       "<table border=\"1\" class=\"dataframe\">\n",
       "  <thead>\n",
       "    <tr style=\"text-align: right;\">\n",
       "      <th></th>\n",
       "      <th>Reading_ID</th>\n",
       "      <th>donation_id</th>\n",
       "      <th>absorbance0</th>\n",
       "      <th>absorbance1</th>\n",
       "      <th>absorbance2</th>\n",
       "      <th>absorbance3</th>\n",
       "      <th>absorbance4</th>\n",
       "      <th>absorbance5</th>\n",
       "      <th>absorbance6</th>\n",
       "      <th>absorbance7</th>\n",
       "      <th>...</th>\n",
       "      <th>absorbance164</th>\n",
       "      <th>absorbance165</th>\n",
       "      <th>absorbance166</th>\n",
       "      <th>absorbance167</th>\n",
       "      <th>absorbance168</th>\n",
       "      <th>absorbance169</th>\n",
       "      <th>id</th>\n",
       "      <th>std</th>\n",
       "      <th>temperature</th>\n",
       "      <th>humidity</th>\n",
       "    </tr>\n",
       "  </thead>\n",
       "  <tbody>\n",
       "    <tr>\n",
       "      <th>0</th>\n",
       "      <td>ID_KWUAQLRM</td>\n",
       "      <td>ID_2982</td>\n",
       "      <td>0.517951</td>\n",
       "      <td>0.520508</td>\n",
       "      <td>0.526852</td>\n",
       "      <td>0.531611</td>\n",
       "      <td>0.536816</td>\n",
       "      <td>0.543828</td>\n",
       "      <td>0.547761</td>\n",
       "      <td>0.554379</td>\n",
       "      <td>...</td>\n",
       "      <td>1.226695</td>\n",
       "      <td>1.210430</td>\n",
       "      <td>1.214422</td>\n",
       "      <td>1.200332</td>\n",
       "      <td>1.198297</td>\n",
       "      <td>1.248182</td>\n",
       "      <td>0</td>\n",
       "      <td>0.0027</td>\n",
       "      <td>37.09</td>\n",
       "      <td>27.22</td>\n",
       "    </tr>\n",
       "    <tr>\n",
       "      <th>1</th>\n",
       "      <td>ID_FN8SIVJJ</td>\n",
       "      <td>ID_2982</td>\n",
       "      <td>0.517839</td>\n",
       "      <td>0.522367</td>\n",
       "      <td>0.525186</td>\n",
       "      <td>0.534661</td>\n",
       "      <td>0.541900</td>\n",
       "      <td>0.546180</td>\n",
       "      <td>0.551687</td>\n",
       "      <td>0.556753</td>\n",
       "      <td>...</td>\n",
       "      <td>1.219627</td>\n",
       "      <td>1.216220</td>\n",
       "      <td>1.191416</td>\n",
       "      <td>1.202515</td>\n",
       "      <td>1.211942</td>\n",
       "      <td>1.242939</td>\n",
       "      <td>1</td>\n",
       "      <td>0.0027</td>\n",
       "      <td>37.20</td>\n",
       "      <td>27.17</td>\n",
       "    </tr>\n",
       "    <tr>\n",
       "      <th>2</th>\n",
       "      <td>ID_CI4TQCHI</td>\n",
       "      <td>ID_2982</td>\n",
       "      <td>0.517702</td>\n",
       "      <td>0.522018</td>\n",
       "      <td>0.527237</td>\n",
       "      <td>0.534374</td>\n",
       "      <td>0.541155</td>\n",
       "      <td>0.547152</td>\n",
       "      <td>0.549837</td>\n",
       "      <td>0.557513</td>\n",
       "      <td>...</td>\n",
       "      <td>1.237193</td>\n",
       "      <td>1.208477</td>\n",
       "      <td>1.208721</td>\n",
       "      <td>1.187810</td>\n",
       "      <td>1.209599</td>\n",
       "      <td>1.175631</td>\n",
       "      <td>2</td>\n",
       "      <td>0.0027</td>\n",
       "      <td>37.30</td>\n",
       "      <td>27.07</td>\n",
       "    </tr>\n",
       "    <tr>\n",
       "      <th>3</th>\n",
       "      <td>ID_URJMKNU7</td>\n",
       "      <td>ID_2982</td>\n",
       "      <td>0.525008</td>\n",
       "      <td>0.527439</td>\n",
       "      <td>0.536871</td>\n",
       "      <td>0.539636</td>\n",
       "      <td>0.546555</td>\n",
       "      <td>0.553183</td>\n",
       "      <td>0.558826</td>\n",
       "      <td>0.563549</td>\n",
       "      <td>...</td>\n",
       "      <td>1.218532</td>\n",
       "      <td>1.185708</td>\n",
       "      <td>1.196750</td>\n",
       "      <td>1.222484</td>\n",
       "      <td>1.177406</td>\n",
       "      <td>1.198399</td>\n",
       "      <td>3</td>\n",
       "      <td>0.0027</td>\n",
       "      <td>37.38</td>\n",
       "      <td>26.98</td>\n",
       "    </tr>\n",
       "    <tr>\n",
       "      <th>4</th>\n",
       "      <td>ID_HBJH67IS</td>\n",
       "      <td>ID_2982</td>\n",
       "      <td>0.520532</td>\n",
       "      <td>0.522683</td>\n",
       "      <td>0.526842</td>\n",
       "      <td>0.534634</td>\n",
       "      <td>0.539676</td>\n",
       "      <td>0.547488</td>\n",
       "      <td>0.552688</td>\n",
       "      <td>0.558355</td>\n",
       "      <td>...</td>\n",
       "      <td>1.206383</td>\n",
       "      <td>1.204950</td>\n",
       "      <td>1.203311</td>\n",
       "      <td>1.191351</td>\n",
       "      <td>1.157577</td>\n",
       "      <td>1.212008</td>\n",
       "      <td>4</td>\n",
       "      <td>0.0027</td>\n",
       "      <td>37.48</td>\n",
       "      <td>26.89</td>\n",
       "    </tr>\n",
       "  </tbody>\n",
       "</table>\n",
       "<p>5 rows × 176 columns</p>\n",
       "</div>"
      ],
      "text/plain": [
       "    Reading_ID donation_id  absorbance0  absorbance1  absorbance2  \\\n",
       "0  ID_KWUAQLRM     ID_2982     0.517951     0.520508     0.526852   \n",
       "1  ID_FN8SIVJJ     ID_2982     0.517839     0.522367     0.525186   \n",
       "2  ID_CI4TQCHI     ID_2982     0.517702     0.522018     0.527237   \n",
       "3  ID_URJMKNU7     ID_2982     0.525008     0.527439     0.536871   \n",
       "4  ID_HBJH67IS     ID_2982     0.520532     0.522683     0.526842   \n",
       "\n",
       "   absorbance3  absorbance4  absorbance5  absorbance6  absorbance7  ...  \\\n",
       "0     0.531611     0.536816     0.543828     0.547761     0.554379  ...   \n",
       "1     0.534661     0.541900     0.546180     0.551687     0.556753  ...   \n",
       "2     0.534374     0.541155     0.547152     0.549837     0.557513  ...   \n",
       "3     0.539636     0.546555     0.553183     0.558826     0.563549  ...   \n",
       "4     0.534634     0.539676     0.547488     0.552688     0.558355  ...   \n",
       "\n",
       "   absorbance164  absorbance165  absorbance166  absorbance167  absorbance168  \\\n",
       "0       1.226695       1.210430       1.214422       1.200332       1.198297   \n",
       "1       1.219627       1.216220       1.191416       1.202515       1.211942   \n",
       "2       1.237193       1.208477       1.208721       1.187810       1.209599   \n",
       "3       1.218532       1.185708       1.196750       1.222484       1.177406   \n",
       "4       1.206383       1.204950       1.203311       1.191351       1.157577   \n",
       "\n",
       "   absorbance169  id     std  temperature  humidity  \n",
       "0       1.248182   0  0.0027        37.09     27.22  \n",
       "1       1.242939   1  0.0027        37.20     27.17  \n",
       "2       1.175631   2  0.0027        37.30     27.07  \n",
       "3       1.198399   3  0.0027        37.38     26.98  \n",
       "4       1.212008   4  0.0027        37.48     26.89  \n",
       "\n",
       "[5 rows x 176 columns]"
      ]
     },
     "execution_count": 409,
     "metadata": {},
     "output_type": "execute_result"
    }
   ],
   "source": [
    "test.head()"
   ]
  },
  {
   "cell_type": "code",
   "execution_count": 410,
   "id": "f8e03640-d468-4544-b359-66656090a8f0",
   "metadata": {},
   "outputs": [],
   "source": [
    "reading_id=test.Reading_ID.values\n",
    "donation_id=test.donation_id.values\n",
    "newtest=test.drop(['Reading_ID','donation_id'],axis=1)\n",
    "nnewtest=newtest.to_numpy()"
   ]
  },
  {
   "cell_type": "code",
   "execution_count": 411,
   "id": "b9579cb8-c018-47da-8e96-3bf3e3ffaf41",
   "metadata": {},
   "outputs": [
    {
     "data": {
      "text/plain": [
       "(3660, 174)"
      ]
     },
     "execution_count": 411,
     "metadata": {},
     "output_type": "execute_result"
    }
   ],
   "source": [
    "nnewtest.shape"
   ]
  },
  {
   "cell_type": "markdown",
   "id": "6cd05dc1-54bc-43ca-ae1b-34d68b9273eb",
   "metadata": {},
   "source": [
    "## Basic Modelling"
   ]
  },
  {
   "cell_type": "code",
   "execution_count": 412,
   "id": "a101f199-cb07-43fd-a022-c088fb2452a9",
   "metadata": {},
   "outputs": [],
   "source": [
    "labels_n = np.zeros(labels.shape)\n",
    "labels_n[np.where(labels=='low')] = 0\n",
    "labels_n[np.where(labels=='ok')] = 1\n",
    "labels_n[np.where(labels=='high')]= 2"
   ]
  },
  {
   "cell_type": "code",
   "execution_count": 413,
   "id": "cf9d7ab7-a9b1-42bb-85f4-149fee919439",
   "metadata": {},
   "outputs": [],
   "source": [
    "from sklearn.datasets import make_classification\n",
    "from sklearn.multioutput import MultiOutputClassifier\n",
    "from sklearn.ensemble import RandomForestClassifier\n",
    "from sklearn.utils import shuffle"
   ]
  },
  {
   "cell_type": "code",
   "execution_count": 414,
   "id": "b44affbe-db31-484f-b05e-f67893b942d9",
   "metadata": {},
   "outputs": [],
   "source": [
    "n_samples, n_features = features.shape\n",
    "n_outputs = labels_n.shape[1]\n",
    "n_classes = 3\n",
    "forest = RandomForestClassifier(random_state=32)\n",
    "multi_target_forest = MultiOutputClassifier(forest, n_jobs=-1)\n",
    "model = multi_target_forest.fit(features, labels_n)"
   ]
  },
  {
   "cell_type": "code",
   "execution_count": 415,
   "id": "5fb11107-3c3d-4573-9f53-5d2c260bc1ea",
   "metadata": {},
   "outputs": [
    {
     "data": {
      "text/plain": [
       "1.0"
      ]
     },
     "execution_count": 415,
     "metadata": {},
     "output_type": "execute_result"
    }
   ],
   "source": [
    "multi_target_forest.score(features, labels_n)"
   ]
  },
  {
   "cell_type": "code",
   "execution_count": 435,
   "id": "36da84b0-6e7f-49f9-b629-0bce75130663",
   "metadata": {},
   "outputs": [],
   "source": [
    "def mymultimodel(features):\n",
    "    output = model.predict(features)\n",
    "    return output"
   ]
  },
  {
   "cell_type": "code",
   "execution_count": 436,
   "id": "c3998ad3-4860-4b51-bb50-85fde6ff624e",
   "metadata": {},
   "outputs": [],
   "source": [
    "multipredictions=mymultimodel(nnewtest)\n",
    "ss = pd.DataFrame()\n",
    "ss[\"donation_id\"] = donation_id\n",
    "ss[\"hdl_cholesterol_human\"] = multipredictions[:,0]\n",
    "ss[\"hemoglobin(hgb)_human\"] = multipredictions[:,1]\n",
    "ss[\"cholesterol_ldl_human\"] = multipredictions[:,2]"
   ]
  },
  {
   "cell_type": "code",
   "execution_count": 418,
   "id": "db35a89a-0c4f-41d1-99f5-3434efba7cdf",
   "metadata": {},
   "outputs": [
    {
     "data": {
      "text/html": [
       "<div>\n",
       "<style scoped>\n",
       "    .dataframe tbody tr th:only-of-type {\n",
       "        vertical-align: middle;\n",
       "    }\n",
       "\n",
       "    .dataframe tbody tr th {\n",
       "        vertical-align: top;\n",
       "    }\n",
       "\n",
       "    .dataframe thead th {\n",
       "        text-align: right;\n",
       "    }\n",
       "</style>\n",
       "<table border=\"1\" class=\"dataframe\">\n",
       "  <thead>\n",
       "    <tr style=\"text-align: right;\">\n",
       "      <th></th>\n",
       "      <th>donation_id</th>\n",
       "      <th>hdl_cholesterol_human</th>\n",
       "      <th>hemoglobin(hgb)_human</th>\n",
       "      <th>cholesterol_ldl_human</th>\n",
       "    </tr>\n",
       "  </thead>\n",
       "  <tbody>\n",
       "    <tr>\n",
       "      <th>0</th>\n",
       "      <td>ID_2982</td>\n",
       "      <td>1.0</td>\n",
       "      <td>1.0</td>\n",
       "      <td>1.0</td>\n",
       "    </tr>\n",
       "    <tr>\n",
       "      <th>1</th>\n",
       "      <td>ID_2982</td>\n",
       "      <td>1.0</td>\n",
       "      <td>1.0</td>\n",
       "      <td>1.0</td>\n",
       "    </tr>\n",
       "    <tr>\n",
       "      <th>2</th>\n",
       "      <td>ID_2982</td>\n",
       "      <td>0.0</td>\n",
       "      <td>1.0</td>\n",
       "      <td>1.0</td>\n",
       "    </tr>\n",
       "    <tr>\n",
       "      <th>3</th>\n",
       "      <td>ID_2982</td>\n",
       "      <td>0.0</td>\n",
       "      <td>1.0</td>\n",
       "      <td>1.0</td>\n",
       "    </tr>\n",
       "    <tr>\n",
       "      <th>4</th>\n",
       "      <td>ID_2982</td>\n",
       "      <td>1.0</td>\n",
       "      <td>1.0</td>\n",
       "      <td>1.0</td>\n",
       "    </tr>\n",
       "  </tbody>\n",
       "</table>\n",
       "</div>"
      ],
      "text/plain": [
       "  donation_id  hdl_cholesterol_human  hemoglobin(hgb)_human  \\\n",
       "0     ID_2982                    1.0                    1.0   \n",
       "1     ID_2982                    1.0                    1.0   \n",
       "2     ID_2982                    0.0                    1.0   \n",
       "3     ID_2982                    0.0                    1.0   \n",
       "4     ID_2982                    1.0                    1.0   \n",
       "\n",
       "   cholesterol_ldl_human  \n",
       "0                    1.0  \n",
       "1                    1.0  \n",
       "2                    1.0  \n",
       "3                    1.0  \n",
       "4                    1.0  "
      ]
     },
     "execution_count": 418,
     "metadata": {},
     "output_type": "execute_result"
    }
   ],
   "source": [
    "ss.head()"
   ]
  },
  {
   "cell_type": "code",
   "execution_count": 437,
   "id": "a8dd6170-0ec2-42f7-9c37-96dfcdeefb07",
   "metadata": {},
   "outputs": [],
   "source": [
    "def transform(value):\n",
    "    if value ==0.0:\n",
    "        return 'low'\n",
    "    if value ==1.0:\n",
    "        return 'ok'\n",
    "    if value ==2.0:\n",
    "        return 'high'"
   ]
  },
  {
   "cell_type": "code",
   "execution_count": 420,
   "id": "14c5c357-57ff-42bd-936d-3beddc4a4a05",
   "metadata": {},
   "outputs": [],
   "source": [
    "ss[\"hdl_cholesterol_human\"]=ss[\"hdl_cholesterol_human\"].apply(lambda x : transform(x))\n",
    "ss[\"hemoglobin(hgb)_human\"]=ss[\"hemoglobin(hgb)_human\"].apply(lambda x : transform(x))\n",
    "ss[\"cholesterol_ldl_human\"]=ss[\"cholesterol_ldl_human\"].apply(lambda x : transform(x))"
   ]
  },
  {
   "cell_type": "code",
   "execution_count": 421,
   "id": "2537277f-8350-44bf-a2ce-9990c1f150bb",
   "metadata": {},
   "outputs": [
    {
     "data": {
      "text/html": [
       "<div>\n",
       "<style scoped>\n",
       "    .dataframe tbody tr th:only-of-type {\n",
       "        vertical-align: middle;\n",
       "    }\n",
       "\n",
       "    .dataframe tbody tr th {\n",
       "        vertical-align: top;\n",
       "    }\n",
       "\n",
       "    .dataframe thead th {\n",
       "        text-align: right;\n",
       "    }\n",
       "</style>\n",
       "<table border=\"1\" class=\"dataframe\">\n",
       "  <thead>\n",
       "    <tr style=\"text-align: right;\">\n",
       "      <th></th>\n",
       "      <th>donation_id</th>\n",
       "      <th>hdl_cholesterol_human</th>\n",
       "      <th>hemoglobin(hgb)_human</th>\n",
       "      <th>cholesterol_ldl_human</th>\n",
       "    </tr>\n",
       "  </thead>\n",
       "  <tbody>\n",
       "    <tr>\n",
       "      <th>0</th>\n",
       "      <td>ID_2982</td>\n",
       "      <td>ok</td>\n",
       "      <td>ok</td>\n",
       "      <td>ok</td>\n",
       "    </tr>\n",
       "    <tr>\n",
       "      <th>1</th>\n",
       "      <td>ID_2982</td>\n",
       "      <td>ok</td>\n",
       "      <td>ok</td>\n",
       "      <td>ok</td>\n",
       "    </tr>\n",
       "    <tr>\n",
       "      <th>2</th>\n",
       "      <td>ID_2982</td>\n",
       "      <td>low</td>\n",
       "      <td>ok</td>\n",
       "      <td>ok</td>\n",
       "    </tr>\n",
       "    <tr>\n",
       "      <th>3</th>\n",
       "      <td>ID_2982</td>\n",
       "      <td>low</td>\n",
       "      <td>ok</td>\n",
       "      <td>ok</td>\n",
       "    </tr>\n",
       "    <tr>\n",
       "      <th>4</th>\n",
       "      <td>ID_2982</td>\n",
       "      <td>ok</td>\n",
       "      <td>ok</td>\n",
       "      <td>ok</td>\n",
       "    </tr>\n",
       "  </tbody>\n",
       "</table>\n",
       "</div>"
      ],
      "text/plain": [
       "  donation_id hdl_cholesterol_human hemoglobin(hgb)_human  \\\n",
       "0     ID_2982                    ok                    ok   \n",
       "1     ID_2982                    ok                    ok   \n",
       "2     ID_2982                   low                    ok   \n",
       "3     ID_2982                   low                    ok   \n",
       "4     ID_2982                    ok                    ok   \n",
       "\n",
       "  cholesterol_ldl_human  \n",
       "0                    ok  \n",
       "1                    ok  \n",
       "2                    ok  \n",
       "3                    ok  \n",
       "4                    ok  "
      ]
     },
     "execution_count": 421,
     "metadata": {},
     "output_type": "execute_result"
    }
   ],
   "source": [
    "ss.head()"
   ]
  },
  {
   "cell_type": "markdown",
   "id": "d74242e5-c83f-46c7-8633-704fdfa6f7bb",
   "metadata": {},
   "source": [
    "## Converting my predictions"
   ]
  },
  {
   "cell_type": "code",
   "execution_count": 422,
   "id": "262c292b-f48b-4f55-bf26-fc2cdeccc052",
   "metadata": {},
   "outputs": [],
   "source": [
    "def transform_c_hdl(row):\n",
    "    return str(row[\"donation_id\"]) +\"_hdl_cholesterol_human\"+ \"-\"  +  (row[\"hdl_cholesterol_human\"])"
   ]
  },
  {
   "cell_type": "code",
   "execution_count": 423,
   "id": "43c854b9-dd19-47c5-abfe-918bbcfa0909",
   "metadata": {},
   "outputs": [],
   "source": [
    "hdl_rows = pd.DataFrame(ss.apply(transform_c_hdl, axis=1))"
   ]
  },
  {
   "cell_type": "code",
   "execution_count": 424,
   "id": "afbd4d52-5c2e-4dd6-9b5a-2a1bdb6cce10",
   "metadata": {},
   "outputs": [],
   "source": [
    "def transform_hemo(row):\n",
    "    return str(row[\"donation_id\"]) + \"_hemoglobin(hgb)_human\" + \"-\"  + row[\"hemoglobin(hgb)_human\"]"
   ]
  },
  {
   "cell_type": "code",
   "execution_count": 425,
   "id": "13605aa3-0d72-40f5-a7aa-72d7239d1980",
   "metadata": {},
   "outputs": [],
   "source": [
    "hemo_rows = pd.DataFrame(ss.apply(transform_hemo, axis=1))"
   ]
  },
  {
   "cell_type": "code",
   "execution_count": 426,
   "id": "47d41ec0-7dda-46d8-ad60-a453b6ac37ef",
   "metadata": {},
   "outputs": [],
   "source": [
    "def transform_c_ldl(row):\n",
    "    return str(row[\"donation_id\"])+\"_cholesterol_ldl_human\"+ \"-\"  + row[\"cholesterol_ldl_human\"]"
   ]
  },
  {
   "cell_type": "code",
   "execution_count": 427,
   "id": "039cfd97-3844-4d83-842d-f1bea3ae9c1d",
   "metadata": {},
   "outputs": [],
   "source": [
    "ldl_rows = pd.DataFrame(ss.apply(transform_c_ldl, axis=1))"
   ]
  },
  {
   "cell_type": "code",
   "execution_count": 428,
   "id": "a892ab9d-6550-4e35-bb0e-a90ae6aeb48f",
   "metadata": {},
   "outputs": [],
   "source": [
    "ss = pd.concat([hdl_rows, hemo_rows, ldl_rows,]).reset_index(drop=True)"
   ]
  },
  {
   "cell_type": "code",
   "execution_count": 429,
   "id": "8d80d0b2-d3ad-4d4f-8e3c-6e75b6d615a4",
   "metadata": {},
   "outputs": [
    {
     "data": {
      "text/html": [
       "<div>\n",
       "<style scoped>\n",
       "    .dataframe tbody tr th:only-of-type {\n",
       "        vertical-align: middle;\n",
       "    }\n",
       "\n",
       "    .dataframe tbody tr th {\n",
       "        vertical-align: top;\n",
       "    }\n",
       "\n",
       "    .dataframe thead th {\n",
       "        text-align: right;\n",
       "    }\n",
       "</style>\n",
       "<table border=\"1\" class=\"dataframe\">\n",
       "  <thead>\n",
       "    <tr style=\"text-align: right;\">\n",
       "      <th></th>\n",
       "      <th>0</th>\n",
       "    </tr>\n",
       "  </thead>\n",
       "  <tbody>\n",
       "    <tr>\n",
       "      <th>0</th>\n",
       "      <td>ID_2982_hdl_cholesterol_human-ok</td>\n",
       "    </tr>\n",
       "    <tr>\n",
       "      <th>1</th>\n",
       "      <td>ID_2982_hdl_cholesterol_human-ok</td>\n",
       "    </tr>\n",
       "    <tr>\n",
       "      <th>2</th>\n",
       "      <td>ID_2982_hdl_cholesterol_human-low</td>\n",
       "    </tr>\n",
       "    <tr>\n",
       "      <th>3</th>\n",
       "      <td>ID_2982_hdl_cholesterol_human-low</td>\n",
       "    </tr>\n",
       "    <tr>\n",
       "      <th>4</th>\n",
       "      <td>ID_2982_hdl_cholesterol_human-ok</td>\n",
       "    </tr>\n",
       "  </tbody>\n",
       "</table>\n",
       "</div>"
      ],
      "text/plain": [
       "                                   0\n",
       "0   ID_2982_hdl_cholesterol_human-ok\n",
       "1   ID_2982_hdl_cholesterol_human-ok\n",
       "2  ID_2982_hdl_cholesterol_human-low\n",
       "3  ID_2982_hdl_cholesterol_human-low\n",
       "4   ID_2982_hdl_cholesterol_human-ok"
      ]
     },
     "execution_count": 429,
     "metadata": {},
     "output_type": "execute_result"
    }
   ],
   "source": [
    "ss.head()"
   ]
  },
  {
   "cell_type": "code",
   "execution_count": 430,
   "id": "9d12ece5-9101-4a3e-a7a4-fd4337d9a80d",
   "metadata": {},
   "outputs": [],
   "source": [
    "ss[\"target\"] = ss[0].apply(lambda x: x.split(\"-\")[1])\n",
    "ss[0] = ss[0].apply(lambda x: x.split(\"-\")[0])"
   ]
  },
  {
   "cell_type": "code",
   "execution_count": 431,
   "id": "4122a0e0-3c8e-4d45-82e9-2270a81a7605",
   "metadata": {},
   "outputs": [],
   "source": [
    "ss=ss.rename(columns={0:'donation_id'})"
   ]
  },
  {
   "cell_type": "code",
   "execution_count": 432,
   "id": "e589f4bd-3ee3-4847-9edb-24a59b6b6ec8",
   "metadata": {},
   "outputs": [
    {
     "data": {
      "text/html": [
       "<div>\n",
       "<style scoped>\n",
       "    .dataframe tbody tr th:only-of-type {\n",
       "        vertical-align: middle;\n",
       "    }\n",
       "\n",
       "    .dataframe tbody tr th {\n",
       "        vertical-align: top;\n",
       "    }\n",
       "\n",
       "    .dataframe thead th {\n",
       "        text-align: right;\n",
       "    }\n",
       "</style>\n",
       "<table border=\"1\" class=\"dataframe\">\n",
       "  <thead>\n",
       "    <tr style=\"text-align: right;\">\n",
       "      <th></th>\n",
       "      <th>donation_id</th>\n",
       "      <th>target</th>\n",
       "    </tr>\n",
       "  </thead>\n",
       "  <tbody>\n",
       "    <tr>\n",
       "      <th>0</th>\n",
       "      <td>ID_2982_hdl_cholesterol_human</td>\n",
       "      <td>ok</td>\n",
       "    </tr>\n",
       "    <tr>\n",
       "      <th>1</th>\n",
       "      <td>ID_2982_hdl_cholesterol_human</td>\n",
       "      <td>ok</td>\n",
       "    </tr>\n",
       "    <tr>\n",
       "      <th>2</th>\n",
       "      <td>ID_2982_hdl_cholesterol_human</td>\n",
       "      <td>low</td>\n",
       "    </tr>\n",
       "    <tr>\n",
       "      <th>3</th>\n",
       "      <td>ID_2982_hdl_cholesterol_human</td>\n",
       "      <td>low</td>\n",
       "    </tr>\n",
       "    <tr>\n",
       "      <th>4</th>\n",
       "      <td>ID_2982_hdl_cholesterol_human</td>\n",
       "      <td>ok</td>\n",
       "    </tr>\n",
       "  </tbody>\n",
       "</table>\n",
       "</div>"
      ],
      "text/plain": [
       "                     donation_id target\n",
       "0  ID_2982_hdl_cholesterol_human     ok\n",
       "1  ID_2982_hdl_cholesterol_human     ok\n",
       "2  ID_2982_hdl_cholesterol_human    low\n",
       "3  ID_2982_hdl_cholesterol_human    low\n",
       "4  ID_2982_hdl_cholesterol_human     ok"
      ]
     },
     "execution_count": 432,
     "metadata": {},
     "output_type": "execute_result"
    }
   ],
   "source": [
    "ss.head()"
   ]
  },
  {
   "cell_type": "code",
   "execution_count": 433,
   "id": "04d1c253-b647-4a0b-82af-b4dc06e498e1",
   "metadata": {},
   "outputs": [],
   "source": [
    "ss.to_csv('beseech.csv',index=False)"
   ]
  },
  {
   "cell_type": "code",
   "execution_count": 434,
   "id": "0121b079-d27a-4bd0-9512-e4d5f3d70678",
   "metadata": {},
   "outputs": [
    {
     "data": {
      "text/plain": [
       "'alhamdulillah'"
      ]
     },
     "execution_count": 434,
     "metadata": {},
     "output_type": "execute_result"
    }
   ],
   "source": [
    "'alhamdulillah'"
   ]
  },
  {
   "cell_type": "code",
   "execution_count": null,
   "id": "1f4f4b9f-4064-46f0-b6df-63bb31a9fe7a",
   "metadata": {},
   "outputs": [],
   "source": []
  }
 ],
 "metadata": {
  "kernelspec": {
   "display_name": "Python 3",
   "language": "python",
   "name": "python3"
  },
  "language_info": {
   "codemirror_mode": {
    "name": "ipython",
    "version": 3
   },
   "file_extension": ".py",
   "mimetype": "text/x-python",
   "name": "python",
   "nbconvert_exporter": "python",
   "pygments_lexer": "ipython3",
   "version": "3.8.8"
  }
 },
 "nbformat": 4,
 "nbformat_minor": 5
}
