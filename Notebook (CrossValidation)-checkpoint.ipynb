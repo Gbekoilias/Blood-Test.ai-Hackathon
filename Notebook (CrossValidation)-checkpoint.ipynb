{
 "cells": [
  {
   "cell_type": "code",
   "execution_count": 1,
   "id": "bd95c73c-83a0-4af9-8ccd-b914ff0ba235",
   "metadata": {},
   "outputs": [],
   "source": [
    "import pandas as pd\n",
    "import seaborn as sns\n",
    "import numpy as np\n",
    "import matplotlib.pyplot as plt\n",
    "import matplotlib.pylab as plb\n",
    "import warnings\n",
    "import json\n",
    "import random\n",
    "import string\n",
    "import os\n",
    "%matplotlib inline\n",
    "sns.set()"
   ]
  },
  {
   "cell_type": "code",
   "execution_count": 2,
   "id": "0ae9222c-9b80-46d4-a5b5-643a16438fc2",
   "metadata": {},
   "outputs": [],
   "source": [
    "samplesubmission=pd.read_csv('Updated_Sample_Submission.csv')\n",
    "train=pd.read_csv('Update_train.csv')\n",
    "test=pd.read_csv('Updated_Test.csv')\n",
    "train_trimmed=pd.read_csv('Train_trimmed.csv')\n",
    "test_trimmed=pd.read_csv('Updated_Test_trimmed.csv')"
   ]
  },
  {
   "cell_type": "code",
   "execution_count": 3,
   "id": "28c6a7f8-3a11-483e-98b6-d59ae0b83cbf",
   "metadata": {},
   "outputs": [
    {
     "name": "stderr",
     "output_type": "stream",
     "text": [
      "C:\\ProgramData\\Anaconda3\\lib\\site-packages\\seaborn\\_decorators.py:36: FutureWarning: Pass the following variable as a keyword arg: x. From version 0.12, the only valid positional argument will be `data`, and passing other arguments without an explicit keyword will result in an error or misinterpretation.\n",
      "  warnings.warn(\n"
     ]
    },
    {
     "data": {
      "text/plain": [
       "<AxesSubplot:xlabel='hemoglobin(hgb)_human', ylabel='count'>"
      ]
     },
     "execution_count": 3,
     "metadata": {},
     "output_type": "execute_result"
    },
    {
     "data": {
      "image/png": "[encoded data removed]",
      "text/plain": [
       "<Figure size 432x288 with 1 Axes>"
      ]
     },
     "metadata": {},
     "output_type": "display_data"
    }
   ],
   "source": [
    "sns.countplot(train['hemoglobin(hgb)_human'])"
   ]
  },
  {
   "cell_type": "code",
   "execution_count": 4,
   "id": "09acd7fb-56bf-461c-896e-a4aa3ac25dd3",
   "metadata": {},
   "outputs": [
    {
     "name": "stderr",
     "output_type": "stream",
     "text": [
      "C:\\ProgramData\\Anaconda3\\lib\\site-packages\\seaborn\\_decorators.py:36: FutureWarning: Pass the following variable as a keyword arg: x. From version 0.12, the only valid positional argument will be `data`, and passing other arguments without an explicit keyword will result in an error or misinterpretation.\n",
      "  warnings.warn(\n"
     ]
    },
    {
     "data": {
      "text/plain": [
       "<AxesSubplot:xlabel='cholesterol_ldl_human', ylabel='count'>"
      ]
     },
     "execution_count": 4,
     "metadata": {},
     "output_type": "execute_result"
    },
    {
     "data": {
      "image/png": "[encoded data removed]",
      "text/plain": [
       "<Figure size 432x288 with 1 Axes>"
      ]
     },
     "metadata": {},
     "output_type": "display_data"
    }
   ],
   "source": [
    "sns.countplot(train['cholesterol_ldl_human'])"
   ]
  },
  {
   "cell_type": "code",
   "execution_count": 5,
   "id": "ee29290c-fb6e-4df7-95d6-a82c25b0abfc",
   "metadata": {},
   "outputs": [],
   "source": [
    "newtrain=train.drop(['donation_id'],axis=1)"
   ]
  },
  {
   "cell_type": "code",
   "execution_count": 6,
   "id": "6cc0ddd5-4e6f-4fea-bf3e-23c34138abee",
   "metadata": {},
   "outputs": [
    {
     "data": {
      "text/plain": [
       "Index(['absorbance0', 'absorbance1', 'absorbance2', 'absorbance3',\n",
       "       'absorbance4', 'absorbance5', 'absorbance6', 'absorbance7',\n",
       "       'absorbance8', 'absorbance9',\n",
       "       ...\n",
       "       'absorbance167', 'absorbance168', 'absorbance169', 'id', 'std',\n",
       "       'temperature', 'humidity', 'hdl_cholesterol_human',\n",
       "       'hemoglobin(hgb)_human', 'cholesterol_ldl_human'],\n",
       "      dtype='object', length=177)"
      ]
     },
     "execution_count": 6,
     "metadata": {},
     "output_type": "execute_result"
    }
   ],
   "source": [
    "newtrain.columns"
   ]
  },
  {
   "cell_type": "code",
   "execution_count": 7,
   "id": "4939b674-756d-4ea2-906a-97d5095b4c1a",
   "metadata": {},
   "outputs": [
    {
     "data": {
      "text/plain": [
       "(29160, 177)"
      ]
     },
     "execution_count": 7,
     "metadata": {},
     "output_type": "execute_result"
    }
   ],
   "source": [
    "newtrain.shape"
   ]
  },
  {
   "cell_type": "code",
   "execution_count": 8,
   "id": "26de6575-81d0-46f4-8b6b-c3048c1c6d9f",
   "metadata": {},
   "outputs": [],
   "source": [
    "nnewtrain=newtrain.to_numpy()"
   ]
  },
  {
   "cell_type": "code",
   "execution_count": 9,
   "id": "5d259d6c-02d8-42d8-a141-9b29c10800e0",
   "metadata": {},
   "outputs": [],
   "source": [
    "features=np.array(nnewtrain [:,:174], dtype=float)\n",
    "labels = nnewtrain[:,174:]"
   ]
  },
  {
   "cell_type": "code",
   "execution_count": 10,
   "id": "eb4f8f05-ff63-42de-afbc-82141292409f",
   "metadata": {},
   "outputs": [],
   "source": [
    "reading_id=test.Reading_ID.values\n",
    "donation_id=test.donation_id.values\n",
    "newtest=test.drop(['Reading_ID','donation_id'],axis=1)\n",
    "nnewtest=newtest.to_numpy()"
   ]
  },
  {
   "cell_type": "code",
   "execution_count": 11,
   "id": "90cea89c-0f88-4db5-b175-c22537731847",
   "metadata": {},
   "outputs": [
    {
     "data": {
      "text/plain": [
       "(3660, 174)"
      ]
     },
     "execution_count": 11,
     "metadata": {},
     "output_type": "execute_result"
    }
   ],
   "source": [
    "nnewtest.shape"
   ]
  },
  {
   "cell_type": "code",
   "execution_count": 12,
   "id": "5ced9896-703d-43cd-b138-7c850fbf16e1",
   "metadata": {},
   "outputs": [],
   "source": [
    "labels_n = np.zeros(labels.shape)\n",
    "labels_n[np.where(labels=='low')] = 0\n",
    "labels_n[np.where(labels=='ok')] = 1\n",
    "labels_n[np.where(labels=='high')]= 2"
   ]
  },
  {
   "cell_type": "code",
   "execution_count": 90,
   "id": "9dd7f156-c48d-4824-8be5-f67d3888b704",
   "metadata": {},
   "outputs": [],
   "source": [
    "from sklearn.datasets import make_classification\n",
    "from sklearn.multioutput import MultiOutputClassifier\n",
    "from sklearn.ensemble import RandomForestClassifier\n",
    "from sklearn.utils import shuffle \n",
    "from sklearn.linear_model import LogisticRegression\n",
    "from sklearn.tree import DecisionTreeClassifier\n",
    "from sklearn.neighbors import KNeighborsClassifier\n",
    "from sklearn.svm import SVC\n",
    "from sklearn.model_selection import KFold\n",
    "from sklearn.model_selection import cross_val_score"
   ]
  },
  {
   "cell_type": "markdown",
   "id": "72822d75-81d6-4925-ba2c-9f1ec747e854",
   "metadata": {},
   "source": [
    "## Decision Tree Classifier Model"
   ]
  },
  {
   "cell_type": "code",
   "execution_count": 14,
   "id": "9f533c0a-ff97-4853-a1df-476b4c81af4d",
   "metadata": {},
   "outputs": [],
   "source": [
    "n_samples, n_features = features.shape\n",
    "n_outputs = labels_n.shape[1]\n",
    "n_classes = 3\n",
    "DTCmodel = DecisionTreeClassifier(random_state=72)\n",
    "multi_target_forest = MultiOutputClassifier(DTCmodel, n_jobs=-1)\n",
    "model = multi_target_forest.fit(features, labels_n)"
   ]
  },
  {
   "cell_type": "code",
   "execution_count": 15,
   "id": "8c62b839-f117-433b-8b48-c1a14772798e",
   "metadata": {},
   "outputs": [
    {
     "data": {
      "text/plain": [
       "1.0"
      ]
     },
     "execution_count": 15,
     "metadata": {},
     "output_type": "execute_result"
    }
   ],
   "source": [
    "multi_target_forest.score(features, labels_n)"
   ]
  },
  {
   "cell_type": "code",
   "execution_count": 16,
   "id": "0a27a5cd-9291-438b-9fe0-dd82fb3ed6a2",
   "metadata": {},
   "outputs": [],
   "source": [
    "def mymultimodel(features):\n",
    "    output = model.predict(features)\n",
    "    return output"
   ]
  },
  {
   "cell_type": "code",
   "execution_count": 17,
   "id": "b8c5cfdc-47be-4322-8da5-86a838afeb4a",
   "metadata": {},
   "outputs": [],
   "source": [
    "multipredictions=mymultimodel(nnewtest)\n",
    "ss = pd.DataFrame()\n",
    "ss[\"donation_id\"] = donation_id\n",
    "ss[\"hdl_cholesterol_human\"] = multipredictions[:,0]\n",
    "ss[\"hemoglobin(hgb)_human\"] = multipredictions[:,1]\n",
    "ss[\"cholesterol_ldl_human\"] = multipredictions[:,2]"
   ]
  },
  {
   "cell_type": "code",
   "execution_count": 18,
   "id": "5c3fa8ca-ecd0-41e6-a485-4b1c3b4d94cc",
   "metadata": {},
   "outputs": [
    {
     "data": {
      "text/html": [
       "<div>\n",
       "<style scoped>\n",
       "    .dataframe tbody tr th:only-of-type {\n",
       "        vertical-align: middle;\n",
       "    }\n",
       "\n",
       "    .dataframe tbody tr th {\n",
       "        vertical-align: top;\n",
       "    }\n",
       "\n",
       "    .dataframe thead th {\n",
       "        text-align: right;\n",
       "    }\n",
       "</style>\n",
       "<table border=\"1\" class=\"dataframe\">\n",
       "  <thead>\n",
       "    <tr style=\"text-align: right;\">\n",
       "      <th></th>\n",
       "      <th>donation_id</th>\n",
       "      <th>hdl_cholesterol_human</th>\n",
       "      <th>hemoglobin(hgb)_human</th>\n",
       "      <th>cholesterol_ldl_human</th>\n",
       "    </tr>\n",
       "  </thead>\n",
       "  <tbody>\n",
       "    <tr>\n",
       "      <th>0</th>\n",
       "      <td>ID_2982</td>\n",
       "      <td>0.0</td>\n",
       "      <td>1.0</td>\n",
       "      <td>1.0</td>\n",
       "    </tr>\n",
       "    <tr>\n",
       "      <th>1</th>\n",
       "      <td>ID_2982</td>\n",
       "      <td>0.0</td>\n",
       "      <td>1.0</td>\n",
       "      <td>1.0</td>\n",
       "    </tr>\n",
       "    <tr>\n",
       "      <th>2</th>\n",
       "      <td>ID_2982</td>\n",
       "      <td>0.0</td>\n",
       "      <td>1.0</td>\n",
       "      <td>1.0</td>\n",
       "    </tr>\n",
       "    <tr>\n",
       "      <th>3</th>\n",
       "      <td>ID_2982</td>\n",
       "      <td>1.0</td>\n",
       "      <td>1.0</td>\n",
       "      <td>1.0</td>\n",
       "    </tr>\n",
       "    <tr>\n",
       "      <th>4</th>\n",
       "      <td>ID_2982</td>\n",
       "      <td>0.0</td>\n",
       "      <td>1.0</td>\n",
       "      <td>1.0</td>\n",
       "    </tr>\n",
       "  </tbody>\n",
       "</table>\n",
       "</div>"
      ],
      "text/plain": [
       "  donation_id  hdl_cholesterol_human  hemoglobin(hgb)_human  \\\n",
       "0     ID_2982                    0.0                    1.0   \n",
       "1     ID_2982                    0.0                    1.0   \n",
       "2     ID_2982                    0.0                    1.0   \n",
       "3     ID_2982                    1.0                    1.0   \n",
       "4     ID_2982                    0.0                    1.0   \n",
       "\n",
       "   cholesterol_ldl_human  \n",
       "0                    1.0  \n",
       "1                    1.0  \n",
       "2                    1.0  \n",
       "3                    1.0  \n",
       "4                    1.0  "
      ]
     },
     "execution_count": 18,
     "metadata": {},
     "output_type": "execute_result"
    }
   ],
   "source": [
    "ss.head()"
   ]
  },
  {
   "cell_type": "code",
   "execution_count": 19,
   "id": "8d769cee-1ab5-4764-ae54-d2458846ddf1",
   "metadata": {},
   "outputs": [],
   "source": [
    "def transform(value):\n",
    "    if value ==0.0:\n",
    "        return 'low'\n",
    "    if value ==1.0:\n",
    "        return 'ok'\n",
    "    if value ==2.0:\n",
    "        return 'high'"
   ]
  },
  {
   "cell_type": "code",
   "execution_count": 20,
   "id": "f9e50a48-b29e-49a9-9c80-dc1ae2c67f3f",
   "metadata": {},
   "outputs": [],
   "source": [
    "ss[\"hdl_cholesterol_human\"]=ss[\"hdl_cholesterol_human\"].apply(lambda x : transform(x))\n",
    "ss[\"hemoglobin(hgb)_human\"]=ss[\"hemoglobin(hgb)_human\"].apply(lambda x : transform(x))\n",
    "ss[\"cholesterol_ldl_human\"]=ss[\"cholesterol_ldl_human\"].apply(lambda x : transform(x))"
   ]
  },
  {
   "cell_type": "code",
   "execution_count": 21,
   "id": "1a50b477-e192-4e22-8e70-f074424c19e3",
   "metadata": {},
   "outputs": [
    {
     "data": {
      "text/html": [
       "<div>\n",
       "<style scoped>\n",
       "    .dataframe tbody tr th:only-of-type {\n",
       "        vertical-align: middle;\n",
       "    }\n",
       "\n",
       "    .dataframe tbody tr th {\n",
       "        vertical-align: top;\n",
       "    }\n",
       "\n",
       "    .dataframe thead th {\n",
       "        text-align: right;\n",
       "    }\n",
       "</style>\n",
       "<table border=\"1\" class=\"dataframe\">\n",
       "  <thead>\n",
       "    <tr style=\"text-align: right;\">\n",
       "      <th></th>\n",
       "      <th>donation_id</th>\n",
       "      <th>hdl_cholesterol_human</th>\n",
       "      <th>hemoglobin(hgb)_human</th>\n",
       "      <th>cholesterol_ldl_human</th>\n",
       "    </tr>\n",
       "  </thead>\n",
       "  <tbody>\n",
       "    <tr>\n",
       "      <th>0</th>\n",
       "      <td>ID_2982</td>\n",
       "      <td>low</td>\n",
       "      <td>ok</td>\n",
       "      <td>ok</td>\n",
       "    </tr>\n",
       "    <tr>\n",
       "      <th>1</th>\n",
       "      <td>ID_2982</td>\n",
       "      <td>low</td>\n",
       "      <td>ok</td>\n",
       "      <td>ok</td>\n",
       "    </tr>\n",
       "    <tr>\n",
       "      <th>2</th>\n",
       "      <td>ID_2982</td>\n",
       "      <td>low</td>\n",
       "      <td>ok</td>\n",
       "      <td>ok</td>\n",
       "    </tr>\n",
       "    <tr>\n",
       "      <th>3</th>\n",
       "      <td>ID_2982</td>\n",
       "      <td>ok</td>\n",
       "      <td>ok</td>\n",
       "      <td>ok</td>\n",
       "    </tr>\n",
       "    <tr>\n",
       "      <th>4</th>\n",
       "      <td>ID_2982</td>\n",
       "      <td>low</td>\n",
       "      <td>ok</td>\n",
       "      <td>ok</td>\n",
       "    </tr>\n",
       "  </tbody>\n",
       "</table>\n",
       "</div>"
      ],
      "text/plain": [
       "  donation_id hdl_cholesterol_human hemoglobin(hgb)_human  \\\n",
       "0     ID_2982                   low                    ok   \n",
       "1     ID_2982                   low                    ok   \n",
       "2     ID_2982                   low                    ok   \n",
       "3     ID_2982                    ok                    ok   \n",
       "4     ID_2982                   low                    ok   \n",
       "\n",
       "  cholesterol_ldl_human  \n",
       "0                    ok  \n",
       "1                    ok  \n",
       "2                    ok  \n",
       "3                    ok  \n",
       "4                    ok  "
      ]
     },
     "execution_count": 21,
     "metadata": {},
     "output_type": "execute_result"
    }
   ],
   "source": [
    "ss.head()"
   ]
  },
  {
   "cell_type": "code",
   "execution_count": 22,
   "id": "996988b5-ca51-487c-a52f-7d43bd945274",
   "metadata": {},
   "outputs": [],
   "source": [
    "def transform_c_hdl(row):\n",
    "    return str(row[\"donation_id\"]) +\"_hdl_cholesterol_human\"+ \"-\"  +  (row[\"hdl_cholesterol_human\"])"
   ]
  },
  {
   "cell_type": "code",
   "execution_count": 23,
   "id": "26e6aa59-5f53-478c-a747-b40d07eb8e87",
   "metadata": {},
   "outputs": [],
   "source": [
    "hdl_rows = pd.DataFrame(ss.apply(transform_c_hdl, axis=1))"
   ]
  },
  {
   "cell_type": "code",
   "execution_count": 24,
   "id": "f835be51-4292-4f5b-aaa0-ec83d4cdd22d",
   "metadata": {},
   "outputs": [],
   "source": [
    "def transform_hemo(row):\n",
    "    return str(row[\"donation_id\"]) + \"_hemoglobin(hgb)_human\" + \"-\"  + row[\"hemoglobin(hgb)_human\"]"
   ]
  },
  {
   "cell_type": "code",
   "execution_count": 25,
   "id": "81afcbbf-4fe6-4be7-9f09-5ac1654a7107",
   "metadata": {},
   "outputs": [],
   "source": [
    "hemo_rows = pd.DataFrame(ss.apply(transform_hemo, axis=1))"
   ]
  },
  {
   "cell_type": "code",
   "execution_count": 26,
   "id": "8479531b-769d-46fd-8e82-17199cab2558",
   "metadata": {},
   "outputs": [],
   "source": [
    "def transform_c_ldl(row):\n",
    "    return str(row[\"donation_id\"])+\"_cholesterol_ldl_human\"+ \"-\"  + row[\"cholesterol_ldl_human\"]"
   ]
  },
  {
   "cell_type": "code",
   "execution_count": 27,
   "id": "13f0f901-a313-4191-bf8d-7b5528956390",
   "metadata": {},
   "outputs": [],
   "source": [
    "ldl_rows = pd.DataFrame(ss.apply(transform_c_ldl, axis=1))"
   ]
  },
  {
   "cell_type": "code",
   "execution_count": 28,
   "id": "dbbf3bde-8e94-4f69-a1bf-bdc1ca9da810",
   "metadata": {},
   "outputs": [],
   "source": [
    "ss = pd.concat([hdl_rows, hemo_rows, ldl_rows,]).reset_index(drop=True)"
   ]
  },
  {
   "cell_type": "code",
   "execution_count": 29,
   "id": "0df59728-225c-41c6-9a6e-4133462f30fe",
   "metadata": {},
   "outputs": [
    {
     "data": {
      "text/html": [
       "<div>\n",
       "<style scoped>\n",
       "    .dataframe tbody tr th:only-of-type {\n",
       "        vertical-align: middle;\n",
       "    }\n",
       "\n",
       "    .dataframe tbody tr th {\n",
       "        vertical-align: top;\n",
       "    }\n",
       "\n",
       "    .dataframe thead th {\n",
       "        text-align: right;\n",
       "    }\n",
       "</style>\n",
       "<table border=\"1\" class=\"dataframe\">\n",
       "  <thead>\n",
       "    <tr style=\"text-align: right;\">\n",
       "      <th></th>\n",
       "      <th>0</th>\n",
       "    </tr>\n",
       "  </thead>\n",
       "  <tbody>\n",
       "    <tr>\n",
       "      <th>0</th>\n",
       "      <td>ID_2982_hdl_cholesterol_human-low</td>\n",
       "    </tr>\n",
       "    <tr>\n",
       "      <th>1</th>\n",
       "      <td>ID_2982_hdl_cholesterol_human-low</td>\n",
       "    </tr>\n",
       "    <tr>\n",
       "      <th>2</th>\n",
       "      <td>ID_2982_hdl_cholesterol_human-low</td>\n",
       "    </tr>\n",
       "    <tr>\n",
       "      <th>3</th>\n",
       "      <td>ID_2982_hdl_cholesterol_human-ok</td>\n",
       "    </tr>\n",
       "    <tr>\n",
       "      <th>4</th>\n",
       "      <td>ID_2982_hdl_cholesterol_human-low</td>\n",
       "    </tr>\n",
       "  </tbody>\n",
       "</table>\n",
       "</div>"
      ],
      "text/plain": [
       "                                   0\n",
       "0  ID_2982_hdl_cholesterol_human-low\n",
       "1  ID_2982_hdl_cholesterol_human-low\n",
       "2  ID_2982_hdl_cholesterol_human-low\n",
       "3   ID_2982_hdl_cholesterol_human-ok\n",
       "4  ID_2982_hdl_cholesterol_human-low"
      ]
     },
     "execution_count": 29,
     "metadata": {},
     "output_type": "execute_result"
    }
   ],
   "source": [
    "ss.head()"
   ]
  },
  {
   "cell_type": "code",
   "execution_count": 30,
   "id": "20a1691b-b11a-4482-b749-0211892c6586",
   "metadata": {},
   "outputs": [],
   "source": [
    "ss[\"target\"] = ss[0].apply(lambda x: x.split(\"-\")[1])\n",
    "ss[0] = ss[0].apply(lambda x: x.split(\"-\")[0])"
   ]
  },
  {
   "cell_type": "code",
   "execution_count": 31,
   "id": "a74d8f74-f6ba-4d46-962a-2cd06be91b16",
   "metadata": {},
   "outputs": [],
   "source": [
    "ss=ss.rename(columns={0:'donation_id'})"
   ]
  },
  {
   "cell_type": "code",
   "execution_count": 32,
   "id": "7f0c8e32-0875-4948-a843-c6ee39afcc1c",
   "metadata": {},
   "outputs": [
    {
     "data": {
      "text/html": [
       "<div>\n",
       "<style scoped>\n",
       "    .dataframe tbody tr th:only-of-type {\n",
       "        vertical-align: middle;\n",
       "    }\n",
       "\n",
       "    .dataframe tbody tr th {\n",
       "        vertical-align: top;\n",
       "    }\n",
       "\n",
       "    .dataframe thead th {\n",
       "        text-align: right;\n",
       "    }\n",
       "</style>\n",
       "<table border=\"1\" class=\"dataframe\">\n",
       "  <thead>\n",
       "    <tr style=\"text-align: right;\">\n",
       "      <th></th>\n",
       "      <th>donation_id</th>\n",
       "      <th>target</th>\n",
       "    </tr>\n",
       "  </thead>\n",
       "  <tbody>\n",
       "    <tr>\n",
       "      <th>0</th>\n",
       "      <td>ID_2982_hdl_cholesterol_human</td>\n",
       "      <td>low</td>\n",
       "    </tr>\n",
       "    <tr>\n",
       "      <th>1</th>\n",
       "      <td>ID_2982_hdl_cholesterol_human</td>\n",
       "      <td>low</td>\n",
       "    </tr>\n",
       "    <tr>\n",
       "      <th>2</th>\n",
       "      <td>ID_2982_hdl_cholesterol_human</td>\n",
       "      <td>low</td>\n",
       "    </tr>\n",
       "    <tr>\n",
       "      <th>3</th>\n",
       "      <td>ID_2982_hdl_cholesterol_human</td>\n",
       "      <td>ok</td>\n",
       "    </tr>\n",
       "    <tr>\n",
       "      <th>4</th>\n",
       "      <td>ID_2982_hdl_cholesterol_human</td>\n",
       "      <td>low</td>\n",
       "    </tr>\n",
       "  </tbody>\n",
       "</table>\n",
       "</div>"
      ],
      "text/plain": [
       "                     donation_id target\n",
       "0  ID_2982_hdl_cholesterol_human    low\n",
       "1  ID_2982_hdl_cholesterol_human    low\n",
       "2  ID_2982_hdl_cholesterol_human    low\n",
       "3  ID_2982_hdl_cholesterol_human     ok\n",
       "4  ID_2982_hdl_cholesterol_human    low"
      ]
     },
     "execution_count": 32,
     "metadata": {},
     "output_type": "execute_result"
    }
   ],
   "source": [
    "ss.head()"
   ]
  },
  {
   "cell_type": "code",
   "execution_count": 33,
   "id": "0c377f4a-8a85-4b24-aa24-99423f3463ee",
   "metadata": {},
   "outputs": [],
   "source": [
    "ss.to_csv('DTC_beseech.csv',index=False)"
   ]
  },
  {
   "cell_type": "code",
   "execution_count": 34,
   "id": "391c6bf8-d6c3-486e-b15e-1440b3abb607",
   "metadata": {},
   "outputs": [
    {
     "data": {
      "text/plain": [
       "'ALHAMDULILLAH'"
      ]
     },
     "execution_count": 34,
     "metadata": {},
     "output_type": "execute_result"
    }
   ],
   "source": [
    "'ALHAMDULILLAH'"
   ]
  },
  {
   "cell_type": "markdown",
   "id": "96ca8e80-fbd4-4eb7-844e-dfef48d8552e",
   "metadata": {},
   "source": [
    "## Logistic Regression Model"
   ]
  },
  {
   "cell_type": "code",
   "execution_count": 35,
   "id": "a53a1ca8-975e-4085-83fa-137603cbcddc",
   "metadata": {},
   "outputs": [],
   "source": [
    "n_samples, n_features = features.shape\n",
    "n_outputs = labels_n.shape[1]\n",
    "n_classes = 3\n",
    "LRmodel = LogisticRegression(random_state=32)\n",
    "multi_target_forest = MultiOutputClassifier(LRmodel, n_jobs=-1)\n",
    "model = multi_target_forest.fit(features, labels_n)"
   ]
  },
  {
   "cell_type": "code",
   "execution_count": 36,
   "id": "736c812b-1782-48e6-b35e-bc26cb8d01a5",
   "metadata": {},
   "outputs": [],
   "source": [
    "def mymultimodel(features):\n",
    "    output = model.predict(features)\n",
    "    return output"
   ]
  },
  {
   "cell_type": "code",
   "execution_count": 37,
   "id": "6cfaac4a-8502-4433-b585-22008284c273",
   "metadata": {},
   "outputs": [],
   "source": [
    "multipredictions=mymultimodel(nnewtest)\n",
    "ss = pd.DataFrame()\n",
    "ss[\"donation_id\"] = donation_id\n",
    "ss[\"hdl_cholesterol_human\"] = multipredictions[:,0]\n",
    "ss[\"hemoglobin(hgb)_human\"] = multipredictions[:,1]\n",
    "ss[\"cholesterol_ldl_human\"] = multipredictions[:,2]"
   ]
  },
  {
   "cell_type": "code",
   "execution_count": 38,
   "id": "f5a1f98a-1787-49ed-b830-53551691f6a3",
   "metadata": {},
   "outputs": [
    {
     "data": {
      "text/html": [
       "<div>\n",
       "<style scoped>\n",
       "    .dataframe tbody tr th:only-of-type {\n",
       "        vertical-align: middle;\n",
       "    }\n",
       "\n",
       "    .dataframe tbody tr th {\n",
       "        vertical-align: top;\n",
       "    }\n",
       "\n",
       "    .dataframe thead th {\n",
       "        text-align: right;\n",
       "    }\n",
       "</style>\n",
       "<table border=\"1\" class=\"dataframe\">\n",
       "  <thead>\n",
       "    <tr style=\"text-align: right;\">\n",
       "      <th></th>\n",
       "      <th>donation_id</th>\n",
       "      <th>hdl_cholesterol_human</th>\n",
       "      <th>hemoglobin(hgb)_human</th>\n",
       "      <th>cholesterol_ldl_human</th>\n",
       "    </tr>\n",
       "  </thead>\n",
       "  <tbody>\n",
       "    <tr>\n",
       "      <th>0</th>\n",
       "      <td>ID_2982</td>\n",
       "      <td>1.0</td>\n",
       "      <td>1.0</td>\n",
       "      <td>1.0</td>\n",
       "    </tr>\n",
       "    <tr>\n",
       "      <th>1</th>\n",
       "      <td>ID_2982</td>\n",
       "      <td>1.0</td>\n",
       "      <td>1.0</td>\n",
       "      <td>1.0</td>\n",
       "    </tr>\n",
       "    <tr>\n",
       "      <th>2</th>\n",
       "      <td>ID_2982</td>\n",
       "      <td>1.0</td>\n",
       "      <td>1.0</td>\n",
       "      <td>1.0</td>\n",
       "    </tr>\n",
       "    <tr>\n",
       "      <th>3</th>\n",
       "      <td>ID_2982</td>\n",
       "      <td>1.0</td>\n",
       "      <td>1.0</td>\n",
       "      <td>1.0</td>\n",
       "    </tr>\n",
       "    <tr>\n",
       "      <th>4</th>\n",
       "      <td>ID_2982</td>\n",
       "      <td>1.0</td>\n",
       "      <td>1.0</td>\n",
       "      <td>1.0</td>\n",
       "    </tr>\n",
       "  </tbody>\n",
       "</table>\n",
       "</div>"
      ],
      "text/plain": [
       "  donation_id  hdl_cholesterol_human  hemoglobin(hgb)_human  \\\n",
       "0     ID_2982                    1.0                    1.0   \n",
       "1     ID_2982                    1.0                    1.0   \n",
       "2     ID_2982                    1.0                    1.0   \n",
       "3     ID_2982                    1.0                    1.0   \n",
       "4     ID_2982                    1.0                    1.0   \n",
       "\n",
       "   cholesterol_ldl_human  \n",
       "0                    1.0  \n",
       "1                    1.0  \n",
       "2                    1.0  \n",
       "3                    1.0  \n",
       "4                    1.0  "
      ]
     },
     "execution_count": 38,
     "metadata": {},
     "output_type": "execute_result"
    }
   ],
   "source": [
    "ss.head()"
   ]
  },
  {
   "cell_type": "code",
   "execution_count": 39,
   "id": "b38e47ce-88c8-42f1-8210-d6438f59e373",
   "metadata": {},
   "outputs": [],
   "source": [
    "def transform(value):\n",
    "    if value ==0.0:\n",
    "        return 'low'\n",
    "    if value ==1.0:\n",
    "        return 'ok'\n",
    "    if value ==2.0:\n",
    "        return 'high'"
   ]
  },
  {
   "cell_type": "code",
   "execution_count": 40,
   "id": "5a73563e-6306-4ff1-98d4-edfcf3cc88b6",
   "metadata": {},
   "outputs": [],
   "source": [
    "ss[\"hdl_cholesterol_human\"]=ss[\"hdl_cholesterol_human\"].apply(lambda x : transform(x))\n",
    "ss[\"hemoglobin(hgb)_human\"]=ss[\"hemoglobin(hgb)_human\"].apply(lambda x : transform(x))\n",
    "ss[\"cholesterol_ldl_human\"]=ss[\"cholesterol_ldl_human\"].apply(lambda x : transform(x))"
   ]
  },
  {
   "cell_type": "code",
   "execution_count": 41,
   "id": "3892ab6b-be7a-4f11-ba18-19c4c759ad52",
   "metadata": {},
   "outputs": [],
   "source": [
    "def transform_c_hdl(row):\n",
    "    return str(row[\"donation_id\"]) +\"_hdl_cholesterol_human\"+ \"-\"  +  (row[\"hdl_cholesterol_human\"])"
   ]
  },
  {
   "cell_type": "code",
   "execution_count": 42,
   "id": "0094a3e1-55cc-44d4-a443-c76f102cc294",
   "metadata": {},
   "outputs": [],
   "source": [
    "hdl_rows = pd.DataFrame(ss.apply(transform_c_hdl, axis=1))"
   ]
  },
  {
   "cell_type": "code",
   "execution_count": 43,
   "id": "cb6df5e7-4d71-4778-bb3e-d9242c2966c8",
   "metadata": {},
   "outputs": [],
   "source": [
    "def transform_hemo(row):\n",
    "    return str(row[\"donation_id\"]) + \"_hemoglobin(hgb)_human\" + \"-\"  + row[\"hemoglobin(hgb)_human\"]"
   ]
  },
  {
   "cell_type": "code",
   "execution_count": 44,
   "id": "2243426b-67a4-4e1a-abe3-bd8a64391aca",
   "metadata": {},
   "outputs": [],
   "source": [
    "hemo_rows = pd.DataFrame(ss.apply(transform_hemo, axis=1))"
   ]
  },
  {
   "cell_type": "code",
   "execution_count": 45,
   "id": "b97b54ba-bccc-4fea-979e-a312b156bcf8",
   "metadata": {},
   "outputs": [],
   "source": [
    "def transform_c_ldl(row):\n",
    "    return str(row[\"donation_id\"])+\"_cholesterol_ldl_human\"+ \"-\"  + row[\"cholesterol_ldl_human\"]"
   ]
  },
  {
   "cell_type": "code",
   "execution_count": 46,
   "id": "3f5daba4-757e-4dc7-abce-c80aeda1b342",
   "metadata": {},
   "outputs": [],
   "source": [
    "ldl_rows = pd.DataFrame(ss.apply(transform_c_ldl, axis=1))"
   ]
  },
  {
   "cell_type": "code",
   "execution_count": 47,
   "id": "d9e830b4-a14d-40d1-93e7-b7996b41d727",
   "metadata": {},
   "outputs": [],
   "source": [
    "ss = pd.concat([hdl_rows, hemo_rows, ldl_rows,]).reset_index(drop=True)"
   ]
  },
  {
   "cell_type": "code",
   "execution_count": 48,
   "id": "d6df1eb7-b2bd-46af-bd7f-b86c3b844b69",
   "metadata": {},
   "outputs": [],
   "source": [
    "ss[\"target\"] = ss[0].apply(lambda x: x.split(\"-\")[1])\n",
    "ss[0] = ss[0].apply(lambda x: x.split(\"-\")[0])"
   ]
  },
  {
   "cell_type": "code",
   "execution_count": 49,
   "id": "d6360417-6d7c-472d-8797-c0b49e035866",
   "metadata": {},
   "outputs": [],
   "source": [
    "ss=ss.rename(columns={0:'donation_id'})"
   ]
  },
  {
   "cell_type": "code",
   "execution_count": 50,
   "id": "fe8bbc20-4a2d-4c68-9621-42dde3b8bde4",
   "metadata": {},
   "outputs": [
    {
     "data": {
      "text/html": [
       "<div>\n",
       "<style scoped>\n",
       "    .dataframe tbody tr th:only-of-type {\n",
       "        vertical-align: middle;\n",
       "    }\n",
       "\n",
       "    .dataframe tbody tr th {\n",
       "        vertical-align: top;\n",
       "    }\n",
       "\n",
       "    .dataframe thead th {\n",
       "        text-align: right;\n",
       "    }\n",
       "</style>\n",
       "<table border=\"1\" class=\"dataframe\">\n",
       "  <thead>\n",
       "    <tr style=\"text-align: right;\">\n",
       "      <th></th>\n",
       "      <th>donation_id</th>\n",
       "      <th>target</th>\n",
       "    </tr>\n",
       "  </thead>\n",
       "  <tbody>\n",
       "    <tr>\n",
       "      <th>0</th>\n",
       "      <td>ID_2982_hdl_cholesterol_human</td>\n",
       "      <td>ok</td>\n",
       "    </tr>\n",
       "    <tr>\n",
       "      <th>1</th>\n",
       "      <td>ID_2982_hdl_cholesterol_human</td>\n",
       "      <td>ok</td>\n",
       "    </tr>\n",
       "    <tr>\n",
       "      <th>2</th>\n",
       "      <td>ID_2982_hdl_cholesterol_human</td>\n",
       "      <td>ok</td>\n",
       "    </tr>\n",
       "    <tr>\n",
       "      <th>3</th>\n",
       "      <td>ID_2982_hdl_cholesterol_human</td>\n",
       "      <td>ok</td>\n",
       "    </tr>\n",
       "    <tr>\n",
       "      <th>4</th>\n",
       "      <td>ID_2982_hdl_cholesterol_human</td>\n",
       "      <td>ok</td>\n",
       "    </tr>\n",
       "  </tbody>\n",
       "</table>\n",
       "</div>"
      ],
      "text/plain": [
       "                     donation_id target\n",
       "0  ID_2982_hdl_cholesterol_human     ok\n",
       "1  ID_2982_hdl_cholesterol_human     ok\n",
       "2  ID_2982_hdl_cholesterol_human     ok\n",
       "3  ID_2982_hdl_cholesterol_human     ok\n",
       "4  ID_2982_hdl_cholesterol_human     ok"
      ]
     },
     "execution_count": 50,
     "metadata": {},
     "output_type": "execute_result"
    }
   ],
   "source": [
    "ss.head()"
   ]
  },
  {
   "cell_type": "code",
   "execution_count": 51,
   "id": "2fda5c1c-9b34-4a18-b47a-5e09699b58ec",
   "metadata": {},
   "outputs": [],
   "source": [
    "ss.to_csv('LG_beseech.csv', index=False)"
   ]
  },
  {
   "cell_type": "markdown",
   "id": "2f7ac7bd-1dd0-4945-a449-da2962de723f",
   "metadata": {},
   "source": [
    "## SUPPORT VECTOR MACHINE MODEL"
   ]
  },
  {
   "cell_type": "code",
   "execution_count": 61,
   "id": "7e356e02-8a07-400a-9262-b68546ae06c9",
   "metadata": {},
   "outputs": [],
   "source": [
    "n_samples, n_features = features.shape\n",
    "n_outputs = labels_n.shape[1]\n",
    "n_classes = 3\n",
    "SVCmodel = SVC(random_state=32)\n",
    "multi_target_forest = MultiOutputClassifier(SVCmodel, n_jobs=-1)\n",
    "model = multi_target_forest.fit(features, labels_n)"
   ]
  },
  {
   "cell_type": "code",
   "execution_count": 62,
   "id": "14285d7a-bfee-489a-9189-ca6bc151d486",
   "metadata": {},
   "outputs": [
    {
     "data": {
      "text/plain": [
       "0.21604938271604937"
      ]
     },
     "execution_count": 62,
     "metadata": {},
     "output_type": "execute_result"
    }
   ],
   "source": [
    "multi_target_forest.score(features, labels_n)"
   ]
  },
  {
   "cell_type": "code",
   "execution_count": 63,
   "id": "39173941-6ce9-4dfb-af90-2dc4f6fc3c0b",
   "metadata": {},
   "outputs": [],
   "source": [
    "def mymultimodel(features):\n",
    "    output = model.predict(features)\n",
    "    return output"
   ]
  },
  {
   "cell_type": "code",
   "execution_count": 64,
   "id": "04083331-b1f2-4f66-925f-812f9793e457",
   "metadata": {},
   "outputs": [],
   "source": [
    "multipredictions=mymultimodel(nnewtest)\n",
    "ss = pd.DataFrame()\n",
    "ss[\"donation_id\"] = donation_id\n",
    "ss[\"hdl_cholesterol_human\"] = multipredictions[:,0]\n",
    "ss[\"hemoglobin(hgb)_human\"] = multipredictions[:,1]\n",
    "ss[\"cholesterol_ldl_human\"] = multipredictions[:,2]"
   ]
  },
  {
   "cell_type": "code",
   "execution_count": 65,
   "id": "15c3a92e-e707-4cfc-9be1-83a14550d158",
   "metadata": {},
   "outputs": [],
   "source": [
    "def transform(value):\n",
    "    if value ==0.0:\n",
    "        return 'low'\n",
    "    if value ==1.0:\n",
    "        return 'ok'\n",
    "    if value ==2.0:\n",
    "        return 'high'"
   ]
  },
  {
   "cell_type": "code",
   "execution_count": 66,
   "id": "7f98ef4e-1b5c-4708-bd21-d3a51a22a7c5",
   "metadata": {},
   "outputs": [],
   "source": [
    "ss[\"hdl_cholesterol_human\"]=ss[\"hdl_cholesterol_human\"].apply(lambda x : transform(x))\n",
    "ss[\"hemoglobin(hgb)_human\"]=ss[\"hemoglobin(hgb)_human\"].apply(lambda x : transform(x))\n",
    "ss[\"cholesterol_ldl_human\"]=ss[\"cholesterol_ldl_human\"].apply(lambda x : transform(x))"
   ]
  },
  {
   "cell_type": "code",
   "execution_count": 67,
   "id": "4314cc59-58ee-4846-8091-0e0961d1c2af",
   "metadata": {},
   "outputs": [],
   "source": [
    "def transform_c_hdl(row):\n",
    "    return str(row[\"donation_id\"]) +\"_hdl_cholesterol_human\"+ \"-\"  +  (row[\"hdl_cholesterol_human\"])"
   ]
  },
  {
   "cell_type": "code",
   "execution_count": 68,
   "id": "04cbff34-b7af-40e8-b291-1238fcf18fa9",
   "metadata": {},
   "outputs": [],
   "source": [
    "hdl_rows = pd.DataFrame(ss.apply(transform_c_hdl, axis=1))"
   ]
  },
  {
   "cell_type": "code",
   "execution_count": 69,
   "id": "c27af242-4c59-4297-8d09-9950eff074e2",
   "metadata": {},
   "outputs": [],
   "source": [
    "def transform_hemo(row):\n",
    "    return str(row[\"donation_id\"]) + \"_hemoglobin(hgb)_human\" + \"-\"  + row[\"hemoglobin(hgb)_human\"]"
   ]
  },
  {
   "cell_type": "code",
   "execution_count": 70,
   "id": "91b09fa7-a21f-4623-be88-4967a893b66d",
   "metadata": {},
   "outputs": [],
   "source": [
    "hemo_rows = pd.DataFrame(ss.apply(transform_hemo, axis=1))"
   ]
  },
  {
   "cell_type": "code",
   "execution_count": 71,
   "id": "651e6854-ca0e-4602-bc12-57fe1adbe1e1",
   "metadata": {},
   "outputs": [],
   "source": [
    "def transform_c_ldl(row):\n",
    "    return str(row[\"donation_id\"])+\"_cholesterol_ldl_human\"+ \"-\"  + row[\"cholesterol_ldl_human\"]"
   ]
  },
  {
   "cell_type": "code",
   "execution_count": 72,
   "id": "cf7cdb95-4f1f-4e91-8211-d5f185b46db0",
   "metadata": {},
   "outputs": [],
   "source": [
    "ldl_rows = pd.DataFrame(ss.apply(transform_c_ldl, axis=1))"
   ]
  },
  {
   "cell_type": "code",
   "execution_count": 73,
   "id": "5c2bf3db-e2ec-4118-979d-e0485e2e27be",
   "metadata": {},
   "outputs": [],
   "source": [
    "ss = pd.concat([hdl_rows, hemo_rows, ldl_rows,]).reset_index(drop=True)"
   ]
  },
  {
   "cell_type": "code",
   "execution_count": 74,
   "id": "7a1f442c-abd5-4a52-b9a4-20b63b857a61",
   "metadata": {},
   "outputs": [],
   "source": [
    "ss[\"target\"] = ss[0].apply(lambda x: x.split(\"-\")[1])\n",
    "ss[0] = ss[0].apply(lambda x: x.split(\"-\")[0])"
   ]
  },
  {
   "cell_type": "code",
   "execution_count": 75,
   "id": "fe19e37d-9326-49e8-b10d-29748416448d",
   "metadata": {},
   "outputs": [],
   "source": [
    "ss=ss.rename(columns={0:'donation_id'})"
   ]
  },
  {
   "cell_type": "code",
   "execution_count": 76,
   "id": "880db035-e523-45af-b398-b1661d36c894",
   "metadata": {},
   "outputs": [
    {
     "data": {
      "text/html": [
       "<div>\n",
       "<style scoped>\n",
       "    .dataframe tbody tr th:only-of-type {\n",
       "        vertical-align: middle;\n",
       "    }\n",
       "\n",
       "    .dataframe tbody tr th {\n",
       "        vertical-align: top;\n",
       "    }\n",
       "\n",
       "    .dataframe thead th {\n",
       "        text-align: right;\n",
       "    }\n",
       "</style>\n",
       "<table border=\"1\" class=\"dataframe\">\n",
       "  <thead>\n",
       "    <tr style=\"text-align: right;\">\n",
       "      <th></th>\n",
       "      <th>donation_id</th>\n",
       "      <th>target</th>\n",
       "    </tr>\n",
       "  </thead>\n",
       "  <tbody>\n",
       "    <tr>\n",
       "      <th>0</th>\n",
       "      <td>ID_2982_hdl_cholesterol_human</td>\n",
       "      <td>ok</td>\n",
       "    </tr>\n",
       "    <tr>\n",
       "      <th>1</th>\n",
       "      <td>ID_2982_hdl_cholesterol_human</td>\n",
       "      <td>ok</td>\n",
       "    </tr>\n",
       "    <tr>\n",
       "      <th>2</th>\n",
       "      <td>ID_2982_hdl_cholesterol_human</td>\n",
       "      <td>ok</td>\n",
       "    </tr>\n",
       "    <tr>\n",
       "      <th>3</th>\n",
       "      <td>ID_2982_hdl_cholesterol_human</td>\n",
       "      <td>ok</td>\n",
       "    </tr>\n",
       "    <tr>\n",
       "      <th>4</th>\n",
       "      <td>ID_2982_hdl_cholesterol_human</td>\n",
       "      <td>ok</td>\n",
       "    </tr>\n",
       "  </tbody>\n",
       "</table>\n",
       "</div>"
      ],
      "text/plain": [
       "                     donation_id target\n",
       "0  ID_2982_hdl_cholesterol_human     ok\n",
       "1  ID_2982_hdl_cholesterol_human     ok\n",
       "2  ID_2982_hdl_cholesterol_human     ok\n",
       "3  ID_2982_hdl_cholesterol_human     ok\n",
       "4  ID_2982_hdl_cholesterol_human     ok"
      ]
     },
     "execution_count": 76,
     "metadata": {},
     "output_type": "execute_result"
    }
   ],
   "source": [
    "ss.head()"
   ]
  },
  {
   "cell_type": "code",
   "execution_count": 77,
   "id": "e66bcd8c-9949-4fc7-bab7-644038edf8ab",
   "metadata": {},
   "outputs": [],
   "source": [
    "ss.to_csv('SVM_beseech.csv', index=False)"
   ]
  },
  {
   "cell_type": "markdown",
   "id": "a9d9d2d4-b222-4084-adab-0162f8a89202",
   "metadata": {},
   "source": [
    "## K-FOLD CROSS VALIDATION "
   ]
  },
  {
   "cell_type": "code",
   "execution_count": 83,
   "id": "60e2ce38-1060-45c9-ba18-e55672817b5a",
   "metadata": {},
   "outputs": [
    {
     "data": {
      "text/plain": [
       "KFold(n_splits=5, random_state=32, shuffle=True)"
      ]
     },
     "execution_count": 83,
     "metadata": {},
     "output_type": "execute_result"
    }
   ],
   "source": [
    "KFmodelup = KFold(n_splits=5,shuffle=True,random_state=32)\n",
    "KFmodelup"
   ]
  },
  {
   "cell_type": "code",
   "execution_count": 87,
   "id": "abd15f4d-f45d-4ab9-b379-5d64323f470e",
   "metadata": {},
   "outputs": [
    {
     "name": "stderr",
     "output_type": "stream",
     "text": [
      "C:\\ProgramData\\Anaconda3\\lib\\site-packages\\sklearn\\model_selection\\_validation.py:610: FitFailedWarning: Estimator fit failed. The score on this train-test partition for these parameters will be set to nan. Details: \n",
      "Traceback (most recent call last):\n",
      "  File \"C:\\ProgramData\\Anaconda3\\lib\\site-packages\\sklearn\\model_selection\\_validation.py\", line 593, in _fit_and_score\n",
      "    estimator.fit(X_train, y_train, **fit_params)\n",
      "  File \"C:\\ProgramData\\Anaconda3\\lib\\site-packages\\sklearn\\svm\\_base.py\", line 169, in fit\n",
      "    X, y = self._validate_data(X, y, dtype=np.float64,\n",
      "  File \"C:\\ProgramData\\Anaconda3\\lib\\site-packages\\sklearn\\base.py\", line 433, in _validate_data\n",
      "    X, y = check_X_y(X, y, **check_params)\n",
      "  File \"C:\\ProgramData\\Anaconda3\\lib\\site-packages\\sklearn\\utils\\validation.py\", line 63, in inner_f\n",
      "    return f(*args, **kwargs)\n",
      "  File \"C:\\ProgramData\\Anaconda3\\lib\\site-packages\\sklearn\\utils\\validation.py\", line 826, in check_X_y\n",
      "    y = column_or_1d(y, warn=True)\n",
      "  File \"C:\\ProgramData\\Anaconda3\\lib\\site-packages\\sklearn\\utils\\validation.py\", line 63, in inner_f\n",
      "    return f(*args, **kwargs)\n",
      "  File \"C:\\ProgramData\\Anaconda3\\lib\\site-packages\\sklearn\\utils\\validation.py\", line 864, in column_or_1d\n",
      "    raise ValueError(\n",
      "ValueError: y should be a 1d array, got an array of shape (23328, 3) instead.\n",
      "\n",
      "  warnings.warn(\"Estimator fit failed. The score on this train-test\"\n",
      "C:\\ProgramData\\Anaconda3\\lib\\site-packages\\sklearn\\model_selection\\_validation.py:610: FitFailedWarning: Estimator fit failed. The score on this train-test partition for these parameters will be set to nan. Details: \n",
      "Traceback (most recent call last):\n",
      "  File \"C:\\ProgramData\\Anaconda3\\lib\\site-packages\\sklearn\\model_selection\\_validation.py\", line 593, in _fit_and_score\n",
      "    estimator.fit(X_train, y_train, **fit_params)\n",
      "  File \"C:\\ProgramData\\Anaconda3\\lib\\site-packages\\sklearn\\svm\\_base.py\", line 169, in fit\n",
      "    X, y = self._validate_data(X, y, dtype=np.float64,\n",
      "  File \"C:\\ProgramData\\Anaconda3\\lib\\site-packages\\sklearn\\base.py\", line 433, in _validate_data\n",
      "    X, y = check_X_y(X, y, **check_params)\n",
      "  File \"C:\\ProgramData\\Anaconda3\\lib\\site-packages\\sklearn\\utils\\validation.py\", line 63, in inner_f\n",
      "    return f(*args, **kwargs)\n",
      "  File \"C:\\ProgramData\\Anaconda3\\lib\\site-packages\\sklearn\\utils\\validation.py\", line 826, in check_X_y\n",
      "    y = column_or_1d(y, warn=True)\n",
      "  File \"C:\\ProgramData\\Anaconda3\\lib\\site-packages\\sklearn\\utils\\validation.py\", line 63, in inner_f\n",
      "    return f(*args, **kwargs)\n",
      "  File \"C:\\ProgramData\\Anaconda3\\lib\\site-packages\\sklearn\\utils\\validation.py\", line 864, in column_or_1d\n",
      "    raise ValueError(\n",
      "ValueError: y should be a 1d array, got an array of shape (23328, 3) instead.\n",
      "\n",
      "  warnings.warn(\"Estimator fit failed. The score on this train-test\"\n",
      "C:\\ProgramData\\Anaconda3\\lib\\site-packages\\sklearn\\model_selection\\_validation.py:610: FitFailedWarning: Estimator fit failed. The score on this train-test partition for these parameters will be set to nan. Details: \n",
      "Traceback (most recent call last):\n",
      "  File \"C:\\ProgramData\\Anaconda3\\lib\\site-packages\\sklearn\\model_selection\\_validation.py\", line 593, in _fit_and_score\n",
      "    estimator.fit(X_train, y_train, **fit_params)\n",
      "  File \"C:\\ProgramData\\Anaconda3\\lib\\site-packages\\sklearn\\svm\\_base.py\", line 169, in fit\n",
      "    X, y = self._validate_data(X, y, dtype=np.float64,\n",
      "  File \"C:\\ProgramData\\Anaconda3\\lib\\site-packages\\sklearn\\base.py\", line 433, in _validate_data\n",
      "    X, y = check_X_y(X, y, **check_params)\n",
      "  File \"C:\\ProgramData\\Anaconda3\\lib\\site-packages\\sklearn\\utils\\validation.py\", line 63, in inner_f\n",
      "    return f(*args, **kwargs)\n",
      "  File \"C:\\ProgramData\\Anaconda3\\lib\\site-packages\\sklearn\\utils\\validation.py\", line 826, in check_X_y\n",
      "    y = column_or_1d(y, warn=True)\n",
      "  File \"C:\\ProgramData\\Anaconda3\\lib\\site-packages\\sklearn\\utils\\validation.py\", line 63, in inner_f\n",
      "    return f(*args, **kwargs)\n",
      "  File \"C:\\ProgramData\\Anaconda3\\lib\\site-packages\\sklearn\\utils\\validation.py\", line 864, in column_or_1d\n",
      "    raise ValueError(\n",
      "ValueError: y should be a 1d array, got an array of shape (23328, 3) instead.\n",
      "\n",
      "  warnings.warn(\"Estimator fit failed. The score on this train-test\"\n",
      "C:\\ProgramData\\Anaconda3\\lib\\site-packages\\sklearn\\model_selection\\_validation.py:610: FitFailedWarning: Estimator fit failed. The score on this train-test partition for these parameters will be set to nan. Details: \n",
      "Traceback (most recent call last):\n",
      "  File \"C:\\ProgramData\\Anaconda3\\lib\\site-packages\\sklearn\\model_selection\\_validation.py\", line 593, in _fit_and_score\n",
      "    estimator.fit(X_train, y_train, **fit_params)\n",
      "  File \"C:\\ProgramData\\Anaconda3\\lib\\site-packages\\sklearn\\svm\\_base.py\", line 169, in fit\n",
      "    X, y = self._validate_data(X, y, dtype=np.float64,\n",
      "  File \"C:\\ProgramData\\Anaconda3\\lib\\site-packages\\sklearn\\base.py\", line 433, in _validate_data\n",
      "    X, y = check_X_y(X, y, **check_params)\n",
      "  File \"C:\\ProgramData\\Anaconda3\\lib\\site-packages\\sklearn\\utils\\validation.py\", line 63, in inner_f\n",
      "    return f(*args, **kwargs)\n",
      "  File \"C:\\ProgramData\\Anaconda3\\lib\\site-packages\\sklearn\\utils\\validation.py\", line 826, in check_X_y\n",
      "    y = column_or_1d(y, warn=True)\n",
      "  File \"C:\\ProgramData\\Anaconda3\\lib\\site-packages\\sklearn\\utils\\validation.py\", line 63, in inner_f\n",
      "    return f(*args, **kwargs)\n",
      "  File \"C:\\ProgramData\\Anaconda3\\lib\\site-packages\\sklearn\\utils\\validation.py\", line 864, in column_or_1d\n",
      "    raise ValueError(\n",
      "ValueError: y should be a 1d array, got an array of shape (23328, 3) instead.\n",
      "\n",
      "  warnings.warn(\"Estimator fit failed. The score on this train-test\"\n",
      "C:\\ProgramData\\Anaconda3\\lib\\site-packages\\sklearn\\model_selection\\_validation.py:610: FitFailedWarning: Estimator fit failed. The score on this train-test partition for these parameters will be set to nan. Details: \n",
      "Traceback (most recent call last):\n",
      "  File \"C:\\ProgramData\\Anaconda3\\lib\\site-packages\\sklearn\\model_selection\\_validation.py\", line 593, in _fit_and_score\n",
      "    estimator.fit(X_train, y_train, **fit_params)\n",
      "  File \"C:\\ProgramData\\Anaconda3\\lib\\site-packages\\sklearn\\svm\\_base.py\", line 169, in fit\n",
      "    X, y = self._validate_data(X, y, dtype=np.float64,\n",
      "  File \"C:\\ProgramData\\Anaconda3\\lib\\site-packages\\sklearn\\base.py\", line 433, in _validate_data\n",
      "    X, y = check_X_y(X, y, **check_params)\n",
      "  File \"C:\\ProgramData\\Anaconda3\\lib\\site-packages\\sklearn\\utils\\validation.py\", line 63, in inner_f\n",
      "    return f(*args, **kwargs)\n",
      "  File \"C:\\ProgramData\\Anaconda3\\lib\\site-packages\\sklearn\\utils\\validation.py\", line 826, in check_X_y\n",
      "    y = column_or_1d(y, warn=True)\n",
      "  File \"C:\\ProgramData\\Anaconda3\\lib\\site-packages\\sklearn\\utils\\validation.py\", line 63, in inner_f\n",
      "    return f(*args, **kwargs)\n",
      "  File \"C:\\ProgramData\\Anaconda3\\lib\\site-packages\\sklearn\\utils\\validation.py\", line 864, in column_or_1d\n",
      "    raise ValueError(\n",
      "ValueError: y should be a 1d array, got an array of shape (23328, 3) instead.\n",
      "\n",
      "  warnings.warn(\"Estimator fit failed. The score on this train-test\"\n"
     ]
    },
    {
     "data": {
      "text/plain": [
       "array([nan, nan, nan, nan, nan])"
      ]
     },
     "execution_count": 87,
     "metadata": {},
     "output_type": "execute_result"
    }
   ],
   "source": [
    "cross_val_score(SVC(),features,labels_n)"
   ]
  },
  {
   "cell_type": "code",
   "execution_count": 88,
   "id": "0f1e4877-114d-4412-bab5-a3898b8a1261",
   "metadata": {},
   "outputs": [
    {
     "name": "stderr",
     "output_type": "stream",
     "text": [
      "C:\\ProgramData\\Anaconda3\\lib\\site-packages\\sklearn\\model_selection\\_validation.py:610: FitFailedWarning: Estimator fit failed. The score on this train-test partition for these parameters will be set to nan. Details: \n",
      "Traceback (most recent call last):\n",
      "  File \"C:\\ProgramData\\Anaconda3\\lib\\site-packages\\sklearn\\model_selection\\_validation.py\", line 593, in _fit_and_score\n",
      "    estimator.fit(X_train, y_train, **fit_params)\n",
      "  File \"C:\\ProgramData\\Anaconda3\\lib\\site-packages\\sklearn\\linear_model\\_logistic.py\", line 1344, in fit\n",
      "    X, y = self._validate_data(X, y, accept_sparse='csr', dtype=_dtype,\n",
      "  File \"C:\\ProgramData\\Anaconda3\\lib\\site-packages\\sklearn\\base.py\", line 433, in _validate_data\n",
      "    X, y = check_X_y(X, y, **check_params)\n",
      "  File \"C:\\ProgramData\\Anaconda3\\lib\\site-packages\\sklearn\\utils\\validation.py\", line 63, in inner_f\n",
      "    return f(*args, **kwargs)\n",
      "  File \"C:\\ProgramData\\Anaconda3\\lib\\site-packages\\sklearn\\utils\\validation.py\", line 826, in check_X_y\n",
      "    y = column_or_1d(y, warn=True)\n",
      "  File \"C:\\ProgramData\\Anaconda3\\lib\\site-packages\\sklearn\\utils\\validation.py\", line 63, in inner_f\n",
      "    return f(*args, **kwargs)\n",
      "  File \"C:\\ProgramData\\Anaconda3\\lib\\site-packages\\sklearn\\utils\\validation.py\", line 864, in column_or_1d\n",
      "    raise ValueError(\n",
      "ValueError: y should be a 1d array, got an array of shape (23328, 3) instead.\n",
      "\n",
      "  warnings.warn(\"Estimator fit failed. The score on this train-test\"\n",
      "C:\\ProgramData\\Anaconda3\\lib\\site-packages\\sklearn\\model_selection\\_validation.py:610: FitFailedWarning: Estimator fit failed. The score on this train-test partition for these parameters will be set to nan. Details: \n",
      "Traceback (most recent call last):\n",
      "  File \"C:\\ProgramData\\Anaconda3\\lib\\site-packages\\sklearn\\model_selection\\_validation.py\", line 593, in _fit_and_score\n",
      "    estimator.fit(X_train, y_train, **fit_params)\n",
      "  File \"C:\\ProgramData\\Anaconda3\\lib\\site-packages\\sklearn\\linear_model\\_logistic.py\", line 1344, in fit\n",
      "    X, y = self._validate_data(X, y, accept_sparse='csr', dtype=_dtype,\n",
      "  File \"C:\\ProgramData\\Anaconda3\\lib\\site-packages\\sklearn\\base.py\", line 433, in _validate_data\n",
      "    X, y = check_X_y(X, y, **check_params)\n",
      "  File \"C:\\ProgramData\\Anaconda3\\lib\\site-packages\\sklearn\\utils\\validation.py\", line 63, in inner_f\n",
      "    return f(*args, **kwargs)\n",
      "  File \"C:\\ProgramData\\Anaconda3\\lib\\site-packages\\sklearn\\utils\\validation.py\", line 826, in check_X_y\n",
      "    y = column_or_1d(y, warn=True)\n",
      "  File \"C:\\ProgramData\\Anaconda3\\lib\\site-packages\\sklearn\\utils\\validation.py\", line 63, in inner_f\n",
      "    return f(*args, **kwargs)\n",
      "  File \"C:\\ProgramData\\Anaconda3\\lib\\site-packages\\sklearn\\utils\\validation.py\", line 864, in column_or_1d\n",
      "    raise ValueError(\n",
      "ValueError: y should be a 1d array, got an array of shape (23328, 3) instead.\n",
      "\n",
      "  warnings.warn(\"Estimator fit failed. The score on this train-test\"\n",
      "C:\\ProgramData\\Anaconda3\\lib\\site-packages\\sklearn\\model_selection\\_validation.py:610: FitFailedWarning: Estimator fit failed. The score on this train-test partition for these parameters will be set to nan. Details: \n",
      "Traceback (most recent call last):\n",
      "  File \"C:\\ProgramData\\Anaconda3\\lib\\site-packages\\sklearn\\model_selection\\_validation.py\", line 593, in _fit_and_score\n",
      "    estimator.fit(X_train, y_train, **fit_params)\n",
      "  File \"C:\\ProgramData\\Anaconda3\\lib\\site-packages\\sklearn\\linear_model\\_logistic.py\", line 1344, in fit\n",
      "    X, y = self._validate_data(X, y, accept_sparse='csr', dtype=_dtype,\n",
      "  File \"C:\\ProgramData\\Anaconda3\\lib\\site-packages\\sklearn\\base.py\", line 433, in _validate_data\n",
      "    X, y = check_X_y(X, y, **check_params)\n",
      "  File \"C:\\ProgramData\\Anaconda3\\lib\\site-packages\\sklearn\\utils\\validation.py\", line 63, in inner_f\n",
      "    return f(*args, **kwargs)\n",
      "  File \"C:\\ProgramData\\Anaconda3\\lib\\site-packages\\sklearn\\utils\\validation.py\", line 826, in check_X_y\n",
      "    y = column_or_1d(y, warn=True)\n",
      "  File \"C:\\ProgramData\\Anaconda3\\lib\\site-packages\\sklearn\\utils\\validation.py\", line 63, in inner_f\n",
      "    return f(*args, **kwargs)\n",
      "  File \"C:\\ProgramData\\Anaconda3\\lib\\site-packages\\sklearn\\utils\\validation.py\", line 864, in column_or_1d\n",
      "    raise ValueError(\n",
      "ValueError: y should be a 1d array, got an array of shape (23328, 3) instead.\n",
      "\n",
      "  warnings.warn(\"Estimator fit failed. The score on this train-test\"\n",
      "C:\\ProgramData\\Anaconda3\\lib\\site-packages\\sklearn\\model_selection\\_validation.py:610: FitFailedWarning: Estimator fit failed. The score on this train-test partition for these parameters will be set to nan. Details: \n",
      "Traceback (most recent call last):\n",
      "  File \"C:\\ProgramData\\Anaconda3\\lib\\site-packages\\sklearn\\model_selection\\_validation.py\", line 593, in _fit_and_score\n",
      "    estimator.fit(X_train, y_train, **fit_params)\n",
      "  File \"C:\\ProgramData\\Anaconda3\\lib\\site-packages\\sklearn\\linear_model\\_logistic.py\", line 1344, in fit\n",
      "    X, y = self._validate_data(X, y, accept_sparse='csr', dtype=_dtype,\n",
      "  File \"C:\\ProgramData\\Anaconda3\\lib\\site-packages\\sklearn\\base.py\", line 433, in _validate_data\n",
      "    X, y = check_X_y(X, y, **check_params)\n",
      "  File \"C:\\ProgramData\\Anaconda3\\lib\\site-packages\\sklearn\\utils\\validation.py\", line 63, in inner_f\n",
      "    return f(*args, **kwargs)\n",
      "  File \"C:\\ProgramData\\Anaconda3\\lib\\site-packages\\sklearn\\utils\\validation.py\", line 826, in check_X_y\n",
      "    y = column_or_1d(y, warn=True)\n",
      "  File \"C:\\ProgramData\\Anaconda3\\lib\\site-packages\\sklearn\\utils\\validation.py\", line 63, in inner_f\n",
      "    return f(*args, **kwargs)\n",
      "  File \"C:\\ProgramData\\Anaconda3\\lib\\site-packages\\sklearn\\utils\\validation.py\", line 864, in column_or_1d\n",
      "    raise ValueError(\n",
      "ValueError: y should be a 1d array, got an array of shape (23328, 3) instead.\n",
      "\n",
      "  warnings.warn(\"Estimator fit failed. The score on this train-test\"\n",
      "C:\\ProgramData\\Anaconda3\\lib\\site-packages\\sklearn\\model_selection\\_validation.py:610: FitFailedWarning: Estimator fit failed. The score on this train-test partition for these parameters will be set to nan. Details: \n",
      "Traceback (most recent call last):\n",
      "  File \"C:\\ProgramData\\Anaconda3\\lib\\site-packages\\sklearn\\model_selection\\_validation.py\", line 593, in _fit_and_score\n",
      "    estimator.fit(X_train, y_train, **fit_params)\n",
      "  File \"C:\\ProgramData\\Anaconda3\\lib\\site-packages\\sklearn\\linear_model\\_logistic.py\", line 1344, in fit\n",
      "    X, y = self._validate_data(X, y, accept_sparse='csr', dtype=_dtype,\n",
      "  File \"C:\\ProgramData\\Anaconda3\\lib\\site-packages\\sklearn\\base.py\", line 433, in _validate_data\n",
      "    X, y = check_X_y(X, y, **check_params)\n",
      "  File \"C:\\ProgramData\\Anaconda3\\lib\\site-packages\\sklearn\\utils\\validation.py\", line 63, in inner_f\n",
      "    return f(*args, **kwargs)\n",
      "  File \"C:\\ProgramData\\Anaconda3\\lib\\site-packages\\sklearn\\utils\\validation.py\", line 826, in check_X_y\n",
      "    y = column_or_1d(y, warn=True)\n",
      "  File \"C:\\ProgramData\\Anaconda3\\lib\\site-packages\\sklearn\\utils\\validation.py\", line 63, in inner_f\n",
      "    return f(*args, **kwargs)\n",
      "  File \"C:\\ProgramData\\Anaconda3\\lib\\site-packages\\sklearn\\utils\\validation.py\", line 864, in column_or_1d\n",
      "    raise ValueError(\n",
      "ValueError: y should be a 1d array, got an array of shape (23328, 3) instead.\n",
      "\n",
      "  warnings.warn(\"Estimator fit failed. The score on this train-test\"\n"
     ]
    },
    {
     "data": {
      "text/plain": [
       "array([nan, nan, nan, nan, nan])"
      ]
     },
     "execution_count": 88,
     "metadata": {},
     "output_type": "execute_result"
    }
   ],
   "source": [
    "cross_val_score(LogisticRegression(),features,labels_n)"
   ]
  },
  {
   "cell_type": "code",
   "execution_count": 89,
   "id": "21f880bb-a7c6-417d-9f0f-fd12a75bb5e8",
   "metadata": {},
   "outputs": [
    {
     "name": "stderr",
     "output_type": "stream",
     "text": [
      "C:\\ProgramData\\Anaconda3\\lib\\site-packages\\sklearn\\model_selection\\_validation.py:683: UserWarning: Scoring failed. The score on this train-test partition for these parameters will be set to nan. Details: \n",
      "Traceback (most recent call last):\n",
      "  File \"C:\\ProgramData\\Anaconda3\\lib\\site-packages\\sklearn\\model_selection\\_validation.py\", line 674, in _score\n",
      "    scores = scorer(estimator, X_test, y_test)\n",
      "  File \"C:\\ProgramData\\Anaconda3\\lib\\site-packages\\sklearn\\metrics\\_scorer.py\", line 90, in __call__\n",
      "    score = scorer(estimator, *args, **kwargs)\n",
      "  File \"C:\\ProgramData\\Anaconda3\\lib\\site-packages\\sklearn\\metrics\\_scorer.py\", line 397, in _passthrough_scorer\n",
      "    return estimator.score(*args, **kwargs)\n",
      "  File \"C:\\ProgramData\\Anaconda3\\lib\\site-packages\\sklearn\\base.py\", line 500, in score\n",
      "    return accuracy_score(y, self.predict(X), sample_weight=sample_weight)\n",
      "  File \"C:\\ProgramData\\Anaconda3\\lib\\site-packages\\sklearn\\utils\\validation.py\", line 63, in inner_f\n",
      "    return f(*args, **kwargs)\n",
      "  File \"C:\\ProgramData\\Anaconda3\\lib\\site-packages\\sklearn\\metrics\\_classification.py\", line 202, in accuracy_score\n",
      "    y_type, y_true, y_pred = _check_targets(y_true, y_pred)\n",
      "  File \"C:\\ProgramData\\Anaconda3\\lib\\site-packages\\sklearn\\metrics\\_classification.py\", line 100, in _check_targets\n",
      "    raise ValueError(\"{0} is not supported\".format(y_type))\n",
      "ValueError: multiclass-multioutput is not supported\n",
      "\n",
      "  warnings.warn(\n",
      "C:\\ProgramData\\Anaconda3\\lib\\site-packages\\sklearn\\model_selection\\_validation.py:683: UserWarning: Scoring failed. The score on this train-test partition for these parameters will be set to nan. Details: \n",
      "Traceback (most recent call last):\n",
      "  File \"C:\\ProgramData\\Anaconda3\\lib\\site-packages\\sklearn\\model_selection\\_validation.py\", line 674, in _score\n",
      "    scores = scorer(estimator, X_test, y_test)\n",
      "  File \"C:\\ProgramData\\Anaconda3\\lib\\site-packages\\sklearn\\metrics\\_scorer.py\", line 90, in __call__\n",
      "    score = scorer(estimator, *args, **kwargs)\n",
      "  File \"C:\\ProgramData\\Anaconda3\\lib\\site-packages\\sklearn\\metrics\\_scorer.py\", line 397, in _passthrough_scorer\n",
      "    return estimator.score(*args, **kwargs)\n",
      "  File \"C:\\ProgramData\\Anaconda3\\lib\\site-packages\\sklearn\\base.py\", line 500, in score\n",
      "    return accuracy_score(y, self.predict(X), sample_weight=sample_weight)\n",
      "  File \"C:\\ProgramData\\Anaconda3\\lib\\site-packages\\sklearn\\utils\\validation.py\", line 63, in inner_f\n",
      "    return f(*args, **kwargs)\n",
      "  File \"C:\\ProgramData\\Anaconda3\\lib\\site-packages\\sklearn\\metrics\\_classification.py\", line 202, in accuracy_score\n",
      "    y_type, y_true, y_pred = _check_targets(y_true, y_pred)\n",
      "  File \"C:\\ProgramData\\Anaconda3\\lib\\site-packages\\sklearn\\metrics\\_classification.py\", line 100, in _check_targets\n",
      "    raise ValueError(\"{0} is not supported\".format(y_type))\n",
      "ValueError: multiclass-multioutput is not supported\n",
      "\n",
      "  warnings.warn(\n",
      "C:\\ProgramData\\Anaconda3\\lib\\site-packages\\sklearn\\model_selection\\_validation.py:683: UserWarning: Scoring failed. The score on this train-test partition for these parameters will be set to nan. Details: \n",
      "Traceback (most recent call last):\n",
      "  File \"C:\\ProgramData\\Anaconda3\\lib\\site-packages\\sklearn\\model_selection\\_validation.py\", line 674, in _score\n",
      "    scores = scorer(estimator, X_test, y_test)\n",
      "  File \"C:\\ProgramData\\Anaconda3\\lib\\site-packages\\sklearn\\metrics\\_scorer.py\", line 90, in __call__\n",
      "    score = scorer(estimator, *args, **kwargs)\n",
      "  File \"C:\\ProgramData\\Anaconda3\\lib\\site-packages\\sklearn\\metrics\\_scorer.py\", line 397, in _passthrough_scorer\n",
      "    return estimator.score(*args, **kwargs)\n",
      "  File \"C:\\ProgramData\\Anaconda3\\lib\\site-packages\\sklearn\\base.py\", line 500, in score\n",
      "    return accuracy_score(y, self.predict(X), sample_weight=sample_weight)\n",
      "  File \"C:\\ProgramData\\Anaconda3\\lib\\site-packages\\sklearn\\utils\\validation.py\", line 63, in inner_f\n",
      "    return f(*args, **kwargs)\n",
      "  File \"C:\\ProgramData\\Anaconda3\\lib\\site-packages\\sklearn\\metrics\\_classification.py\", line 202, in accuracy_score\n",
      "    y_type, y_true, y_pred = _check_targets(y_true, y_pred)\n",
      "  File \"C:\\ProgramData\\Anaconda3\\lib\\site-packages\\sklearn\\metrics\\_classification.py\", line 100, in _check_targets\n",
      "    raise ValueError(\"{0} is not supported\".format(y_type))\n",
      "ValueError: multiclass-multioutput is not supported\n",
      "\n",
      "  warnings.warn(\n",
      "C:\\ProgramData\\Anaconda3\\lib\\site-packages\\sklearn\\model_selection\\_validation.py:683: UserWarning: Scoring failed. The score on this train-test partition for these parameters will be set to nan. Details: \n",
      "Traceback (most recent call last):\n",
      "  File \"C:\\ProgramData\\Anaconda3\\lib\\site-packages\\sklearn\\model_selection\\_validation.py\", line 674, in _score\n",
      "    scores = scorer(estimator, X_test, y_test)\n",
      "  File \"C:\\ProgramData\\Anaconda3\\lib\\site-packages\\sklearn\\metrics\\_scorer.py\", line 90, in __call__\n",
      "    score = scorer(estimator, *args, **kwargs)\n",
      "  File \"C:\\ProgramData\\Anaconda3\\lib\\site-packages\\sklearn\\metrics\\_scorer.py\", line 397, in _passthrough_scorer\n",
      "    return estimator.score(*args, **kwargs)\n",
      "  File \"C:\\ProgramData\\Anaconda3\\lib\\site-packages\\sklearn\\base.py\", line 500, in score\n",
      "    return accuracy_score(y, self.predict(X), sample_weight=sample_weight)\n",
      "  File \"C:\\ProgramData\\Anaconda3\\lib\\site-packages\\sklearn\\utils\\validation.py\", line 63, in inner_f\n",
      "    return f(*args, **kwargs)\n",
      "  File \"C:\\ProgramData\\Anaconda3\\lib\\site-packages\\sklearn\\metrics\\_classification.py\", line 202, in accuracy_score\n",
      "    y_type, y_true, y_pred = _check_targets(y_true, y_pred)\n",
      "  File \"C:\\ProgramData\\Anaconda3\\lib\\site-packages\\sklearn\\metrics\\_classification.py\", line 100, in _check_targets\n",
      "    raise ValueError(\"{0} is not supported\".format(y_type))\n",
      "ValueError: multiclass-multioutput is not supported\n",
      "\n",
      "  warnings.warn(\n",
      "C:\\ProgramData\\Anaconda3\\lib\\site-packages\\sklearn\\model_selection\\_validation.py:683: UserWarning: Scoring failed. The score on this train-test partition for these parameters will be set to nan. Details: \n",
      "Traceback (most recent call last):\n",
      "  File \"C:\\ProgramData\\Anaconda3\\lib\\site-packages\\sklearn\\model_selection\\_validation.py\", line 674, in _score\n",
      "    scores = scorer(estimator, X_test, y_test)\n",
      "  File \"C:\\ProgramData\\Anaconda3\\lib\\site-packages\\sklearn\\metrics\\_scorer.py\", line 90, in __call__\n",
      "    score = scorer(estimator, *args, **kwargs)\n",
      "  File \"C:\\ProgramData\\Anaconda3\\lib\\site-packages\\sklearn\\metrics\\_scorer.py\", line 397, in _passthrough_scorer\n",
      "    return estimator.score(*args, **kwargs)\n",
      "  File \"C:\\ProgramData\\Anaconda3\\lib\\site-packages\\sklearn\\base.py\", line 500, in score\n",
      "    return accuracy_score(y, self.predict(X), sample_weight=sample_weight)\n",
      "  File \"C:\\ProgramData\\Anaconda3\\lib\\site-packages\\sklearn\\utils\\validation.py\", line 63, in inner_f\n",
      "    return f(*args, **kwargs)\n",
      "  File \"C:\\ProgramData\\Anaconda3\\lib\\site-packages\\sklearn\\metrics\\_classification.py\", line 202, in accuracy_score\n",
      "    y_type, y_true, y_pred = _check_targets(y_true, y_pred)\n",
      "  File \"C:\\ProgramData\\Anaconda3\\lib\\site-packages\\sklearn\\metrics\\_classification.py\", line 100, in _check_targets\n",
      "    raise ValueError(\"{0} is not supported\".format(y_type))\n",
      "ValueError: multiclass-multioutput is not supported\n",
      "\n",
      "  warnings.warn(\n"
     ]
    },
    {
     "data": {
      "text/plain": [
       "array([nan, nan, nan, nan, nan])"
      ]
     },
     "execution_count": 89,
     "metadata": {},
     "output_type": "execute_result"
    }
   ],
   "source": [
    "cross_val_score(DecisionTreeClassifier(),features,labels_n)"
   ]
  },
  {
   "cell_type": "code",
   "execution_count": null,
   "id": "0f38f577-79d1-44fb-a0a6-42e5d18f1753",
   "metadata": {},
   "outputs": [],
   "source": []
  }
 ],
 "metadata": {
  "kernelspec": {
   "display_name": "Python 3",
   "language": "python",
   "name": "python3"
  },
  "language_info": {
   "codemirror_mode": {
    "name": "ipython",
    "version": 3
   },
   "file_extension": ".py",
   "mimetype": "text/x-python",
   "name": "python",
   "nbconvert_exporter": "python",
   "pygments_lexer": "ipython3",
   "version": "3.8.8"
  }
 },
 "nbformat": 4,
 "nbformat_minor": 5
}
